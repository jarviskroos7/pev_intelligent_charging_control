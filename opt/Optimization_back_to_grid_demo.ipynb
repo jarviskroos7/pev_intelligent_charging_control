{
 "cells": [
  {
   "cell_type": "code",
   "execution_count": 155,
   "id": "78f471d2",
   "metadata": {},
   "outputs": [],
   "source": [
    "import numpy as np\n",
    "import matplotlib.pyplot as plt\n",
    "import cvxpy as cp\n",
    "%matplotlib inline\n",
    "import pandas as pd"
   ]
  },
  {
   "cell_type": "code",
   "execution_count": 156,
   "id": "e7591541",
   "metadata": {},
   "outputs": [],
   "source": [
    "voltage = 400 #nominal_voltage\n",
    "battery_volumn = 60 * 1000 / 400 # Q = kWh / v\n",
    "emission_max_value = 100\n",
    "# start_soc = 0.216\n",
    "# end_soc = 0.7\n",
    "# target_charge_volumn = (end_soc - start_soc) *battery_volumn\n",
    "Power = 10 * 1000 # power of the charger\n",
    "I_max = Power  / voltage\n",
    "R = 0.001 # resistance\n",
    "Power_limit = 10 * 1000 # simple assumption to the limit of the power: 100 kw\n",
    "Power_limit_slope_line_Intercept = 50 * 1000 # simple assumption to the limit of the power(the sloped line): 100 kw"
   ]
  },
  {
   "cell_type": "code",
   "execution_count": 157,
   "id": "357bc489",
   "metadata": {},
   "outputs": [],
   "source": [
    "step = 1/12 # 10(min)/ 60(min)"
   ]
  },
  {
   "cell_type": "code",
   "execution_count": 158,
   "id": "d29c9a2e",
   "metadata": {},
   "outputs": [
    {
     "name": "stdout",
     "output_type": "stream",
     "text": [
      "0.08333333333333333\n"
     ]
    }
   ],
   "source": [
    "print(step)"
   ]
  },
  {
   "cell_type": "code",
   "execution_count": 159,
   "id": "db061e42",
   "metadata": {},
   "outputs": [
    {
     "name": "stdout",
     "output_type": "stream",
     "text": [
      "288.0\n"
     ]
    }
   ],
   "source": [
    "print(24 / step)"
   ]
  },
  {
   "cell_type": "code",
   "execution_count": 160,
   "id": "e24a1276",
   "metadata": {},
   "outputs": [],
   "source": [
    "maximum_steps = 24 / step # 24 hours divided by step"
   ]
  },
  {
   "cell_type": "code",
   "execution_count": 161,
   "id": "3de87425",
   "metadata": {},
   "outputs": [],
   "source": [
    "x = np.linspace(0, int(maximum_steps), int(maximum_steps)+1)\n",
    "emission_array = emission_max_value/((maximum_steps/2)**2) * (x-(maximum_steps/2))**2\n",
    "emission_array = np.concatenate((emission_array[:-1], emission_array[:-1]), axis=0)\n"
   ]
  },
  {
   "cell_type": "code",
   "execution_count": 162,
   "id": "93b0784d",
   "metadata": {},
   "outputs": [
    {
     "name": "stdout",
     "output_type": "stream",
     "text": [
      "(576, 1)\n"
     ]
    }
   ],
   "source": [
    "emission_array = emission_array.reshape(len(emission_array),1)\n",
    "print(emission_array.shape)"
   ]
  },
  {
   "cell_type": "code",
   "execution_count": 163,
   "id": "6daffda8",
   "metadata": {},
   "outputs": [],
   "source": [
    "maximum_steps = int(2* maximum_steps)"
   ]
  },
  {
   "cell_type": "code",
   "execution_count": 164,
   "id": "b876a8c4",
   "metadata": {},
   "outputs": [
    {
     "name": "stdout",
     "output_type": "stream",
     "text": [
      "576\n"
     ]
    }
   ],
   "source": [
    "print(maximum_steps)"
   ]
  },
  {
   "cell_type": "code",
   "execution_count": 165,
   "id": "9eb4bc48",
   "metadata": {},
   "outputs": [],
   "source": [
    "num_vehicles = 2 "
   ]
  },
  {
   "cell_type": "code",
   "execution_count": 166,
   "id": "6b0664a5",
   "metadata": {},
   "outputs": [],
   "source": [
    "# basic = {\n",
    "#          0:{\"start_time\":250,\n",
    "#              \"end_time\":350,\n",
    "#              \"start_soc\":0.2,\n",
    "#              \"end_soc\":0.7}\n",
    "#              }"
   ]
  },
  {
   "cell_type": "code",
   "execution_count": 167,
   "id": "ae3b7901",
   "metadata": {},
   "outputs": [],
   "source": [
    "basic = {0:{\"start_time\":144,\n",
    "             \"end_time\":144+287,\n",
    "             \"start_soc\":0.2,\n",
    "             \"end_soc\":0.7},\n",
    "         1:{\"start_time\":260,\n",
    "             \"end_time\":320,\n",
    "             \"start_soc\":0.4,\n",
    "             \"end_soc\":0.7}\n",
    "             }"
   ]
  },
  {
   "cell_type": "code",
   "execution_count": 168,
   "id": "d4db7be2",
   "metadata": {},
   "outputs": [],
   "source": [
    "target_charge_volumn = []\n",
    "for i in range(num_vehicles):\n",
    "    target_charge_volumn.append((basic[i][\"end_soc\"]-basic[i][\"start_soc\"])*battery_volumn)"
   ]
  },
  {
   "cell_type": "code",
   "execution_count": 169,
   "id": "57b76c5d",
   "metadata": {},
   "outputs": [],
   "source": [
    "current_state = cp.Variable((num_vehicles,maximum_steps), 'current at each step')\n",
    "P = cp.Variable((num_vehicles,maximum_steps), 'power of the charger at each step')\n",
    "soc = cp.Variable((num_vehicles,maximum_steps), \"state of charge\")\n",
    "voltage = cp.Variable((num_vehicles,maximum_steps), \"voltage\")"
   ]
  },
  {
   "cell_type": "code",
   "execution_count": 170,
   "id": "eb7eb567",
   "metadata": {},
   "outputs": [],
   "source": [
    "P_sum = cp.sum(P, axis=0)\n",
    "P_sum_pos = cp.pos(P_sum)\n",
    "P_sum_reshaped = cp.reshape(P_sum_pos, (maximum_steps, 1))\n",
    "objective = cp.Minimize(cp.sum(cp.multiply(P_sum_reshaped, emission_array)))\n",
    "constraints = []"
   ]
  },
  {
   "cell_type": "code",
   "execution_count": 171,
   "id": "01b34907",
   "metadata": {},
   "outputs": [],
   "source": [
    "# discharge_discount_factor = 1\n",
    "# positive_part = cp.pos(P)\n",
    "# negative_part = cp.neg(P)\n",
    "# discounted_negative_part = discharge_discount_factor  * negative_part\n",
    "\n",
    "# P_sum = cp.sum(positive_part+ discounted_negative_part, axis=0)\n",
    "# P_sum_pos = cp.pos(P_sum)\n",
    "# P_sum_reshaped = cp.reshape(P_sum_pos, (maximum_steps, 1))\n",
    "\n",
    "# objective = cp.Minimize(cp.sum(cp.multiply(P_sum_reshaped, emission_array)))\n",
    "# constraints = []"
   ]
  },
  {
   "cell_type": "code",
   "execution_count": 172,
   "id": "86f2a766",
   "metadata": {},
   "outputs": [],
   "source": [
    "for i in range(num_vehicles):\n",
    "    for j in range(0, maximum_steps):\n",
    "        constraints += [voltage[i][j] == 400]"
   ]
  },
  {
   "cell_type": "code",
   "execution_count": 173,
   "id": "b92118c7",
   "metadata": {},
   "outputs": [],
   "source": [
    "for i in range(num_vehicles):\n",
    "    for j in range(0, maximum_steps):\n",
    "        constraints += [P[i][j] == 2 * R * current_state[i][j] + 400 * current_state[i][j]]"
   ]
  },
  {
   "cell_type": "code",
   "execution_count": 174,
   "id": "7b911b9d",
   "metadata": {},
   "outputs": [],
   "source": [
    "for i in range(num_vehicles):\n",
    "    for j in range(basic[i]['start_time']):\n",
    "        constraints += [current_state[i][j] == 0]\n",
    "        constraints += [soc[i][j] == 0]"
   ]
  },
  {
   "cell_type": "code",
   "execution_count": 175,
   "id": "bb28e535",
   "metadata": {},
   "outputs": [],
   "source": [
    "for i in range(num_vehicles):\n",
    "    for j in range(basic[i]['end_time'],maximum_steps):\n",
    "        constraints += [current_state[i][j] == 0]"
   ]
  },
  {
   "cell_type": "code",
   "execution_count": 176,
   "id": "352cd3e8",
   "metadata": {},
   "outputs": [],
   "source": [
    "for i in range(num_vehicles):\n",
    "    constraints += [soc[i][basic[i]['start_time']] == basic[i]['start_soc']]"
   ]
  },
  {
   "cell_type": "code",
   "execution_count": 177,
   "id": "e5c7eb9f",
   "metadata": {},
   "outputs": [],
   "source": [
    "for i in range(num_vehicles):\n",
    "    for j in range(basic[i]['start_time'] + 1, basic[i]['end_time'] + 1):\n",
    "        constraints += [soc[i][j] == soc[i][j-1] + current_state[i][j-1] * step / battery_volumn]"
   ]
  },
  {
   "cell_type": "code",
   "execution_count": 178,
   "id": "27496bef",
   "metadata": {},
   "outputs": [],
   "source": [
    "for i in range(num_vehicles):\n",
    "    for j in range(maximum_steps):\n",
    "        constraints += [P[i][j] <= Power_limit_slope_line_Intercept * (1 - soc[i][j])]"
   ]
  },
  {
   "cell_type": "code",
   "execution_count": 179,
   "id": "33b38b26",
   "metadata": {},
   "outputs": [],
   "source": [
    "for i in range(num_vehicles):\n",
    "    constraints += [cp.sum(current_state[i]) * step >= (target_charge_volumn[i])]\n",
    "constraints += [P <= Power]\n",
    "constraints += [P >= -Power]"
   ]
  },
  {
   "cell_type": "code",
   "execution_count": 180,
   "id": "d8af5129",
   "metadata": {},
   "outputs": [],
   "source": [
    "problem = cp.Problem(objective, constraints)\n",
    "emission_volume = problem.solve()"
   ]
  },
  {
   "cell_type": "code",
   "execution_count": 181,
   "id": "ff7726f2",
   "metadata": {},
   "outputs": [
    {
     "data": {
      "text/plain": [
       "808875.4923122934"
      ]
     },
     "execution_count": 181,
     "metadata": {},
     "output_type": "execute_result"
    }
   ],
   "source": [
    "emission_volume"
   ]
  },
  {
   "cell_type": "code",
   "execution_count": 182,
   "id": "7d34ee93",
   "metadata": {},
   "outputs": [],
   "source": [
    "P_values = P.value"
   ]
  },
  {
   "cell_type": "code",
   "execution_count": 129,
   "id": "dff9f291",
   "metadata": {},
   "outputs": [
    {
     "name": "stdout",
     "output_type": "stream",
     "text": [
      "0   144   9999.99999997271\n",
      "0   145   9999.99999997265\n",
      "0   146   9999.999999972539\n",
      "0   147   9999.999999972355\n",
      "0   148   9999.999999972082\n",
      "0   149   9999.999999971717\n",
      "0   150   9999.999999971258\n",
      "0   151   9999.999999970698\n",
      "0   152   9999.999999970027\n",
      "0   153   9999.999999969234\n",
      "0   154   9999.999999968306\n",
      "0   155   9999.999999967225\n",
      "0   156   9999.99999996597\n",
      "0   157   9999.999999964513\n",
      "0   158   9999.999999962813\n",
      "0   159   9999.999999960832\n",
      "0   160   9999.999999958507\n",
      "0   161   9999.999999955757\n",
      "0   162   9999.999999952477\n",
      "0   163   9999.999999948519\n",
      "0   164   9999.999999943673\n",
      "0   165   9999.999999937627\n",
      "0   166   9999.99999992991\n",
      "0   167   9999.999999919753\n",
      "0   168   9999.99999990584\n",
      "0   169   9999.999999885702\n",
      "0   170   9999.999999854143\n",
      "0   171   9999.999999798285\n",
      "0   172   9999.99999967989\n",
      "0   173   6884.095011169875\n",
      "0   260   -3599.9857836416086\n",
      "0   261   -3585.9617542977985\n",
      "0   262   -3572.853131289066\n",
      "0   263   -3560.6491584212886\n",
      "0   264   -3549.3387269484288\n",
      "0   265   -3538.910349291747\n",
      "0   266   -3529.352131955589\n",
      "0   267   -3520.651747889817\n",
      "0   268   -3512.796408352939\n",
      "0   269   -3505.7728334271333\n",
      "0   270   -3499.567222110601\n",
      "0   271   -3494.165221299756\n",
      "0   272   -3489.551893207482\n",
      "0   273   -3485.71168249455\n",
      "0   274   -3482.6283812161314\n",
      "0   275   -3480.2850930511336\n",
      "0   276   -3478.664195384834\n",
      "0   277   -3477.7473004541594\n",
      "0   278   -3477.515213891381\n",
      "0   279   -3477.947892214827\n",
      "0   280   -3479.0243974845985\n",
      "0   281   -3480.722850089922\n",
      "0   282   -3483.0203792861566\n",
      "0   283   -3485.8930707918926\n",
      "0   284   -3489.3159122376264\n",
      "0   285   -3493.2627353763555\n",
      "0   286   -3497.706156046641\n",
      "0   287   -3502.61751089629\n",
      "0   288   -3507.9667917475435\n",
      "0   289   -3513.028878054116\n",
      "0   290   -3518.5451022428256\n",
      "0   291   -3524.545686818704\n",
      "0   292   -3531.0590136283904\n",
      "0   293   -3538.1116952129605\n",
      "0   294   -3545.728638188211\n",
      "0   295   -3553.9330984283624\n",
      "0   296   -3562.74672817269\n",
      "0   297   -3572.1896146470112\n",
      "0   298   -3582.2803103691126\n",
      "0   299   -3593.0358543806956\n",
      "0   300   -3604.4717847243296\n",
      "0   301   -3616.6021411071047\n",
      "0   302   -3629.439457465404\n",
      "0   303   -3642.9947438266086\n",
      "0   304   -3657.2774558050005\n",
      "0   305   -3672.2954517337307\n",
      "0   306   -3688.054934648905\n",
      "0   307   -3704.560378580978\n",
      "0   308   -3721.8144361025234\n",
      "0   309   -3739.8178253574974\n",
      "0   310   -3758.5691928020497\n",
      "0   311   -3778.0649485914832\n",
      "0   312   -3798.299069857356\n",
      "0   313   -3819.262866688071\n",
      "0   314   -3840.9447042022407\n",
      "0   315   -3863.3296734704954\n",
      "0   316   -3886.3992015354725\n",
      "0   317   -3910.1305895898518\n",
      "0   318   -3934.4964656006828\n",
      "0   319   -3959.464134911708\n",
      "0   403   9118.784993177815\n",
      "0   404   9999.999999657093\n",
      "0   405   9999.99999980471\n",
      "0   406   9999.999999859927\n",
      "0   407   9999.999999890093\n",
      "0   408   9999.999999909229\n",
      "0   409   9999.999999922453\n",
      "0   410   9999.999999932128\n",
      "0   411   9999.999999939495\n",
      "0   412   9999.999999945281\n",
      "0   413   9999.999999949927\n",
      "0   414   9999.99999995373\n",
      "0   415   9999.999999956886\n",
      "0   416   9999.999999959538\n",
      "0   417   9999.999999961783\n",
      "0   418   9999.999999963698\n",
      "0   419   9999.999999965341\n",
      "0   420   9999.999999966754\n",
      "0   421   9999.999999967973\n",
      "0   422   9999.99999996902\n",
      "0   423   9999.999999969921\n",
      "0   424   9999.999999970692\n",
      "0   425   9999.999999971345\n",
      "0   426   9999.999999971891\n",
      "0   427   9999.999999972342\n",
      "0   428   9999.999999972697\n",
      "0   429   9999.999999972966\n",
      "0   430   9999.999999973148\n",
      "1   260   3599.9857836103365\n",
      "1   261   3585.961754266485\n",
      "1   262   3572.853131257714\n",
      "1   263   3560.649158389897\n",
      "1   264   3549.338726917\n",
      "1   265   3538.9103492602817\n",
      "1   266   3529.3521319240876\n",
      "1   267   3520.6517478582814\n",
      "1   268   3512.796408321369\n",
      "1   269   3505.772833395531\n",
      "1   270   3499.567222078966\n",
      "1   271   3494.1652212680906\n",
      "1   272   3489.551893175786\n",
      "1   273   3485.7116824628247\n",
      "1   274   3482.6283811843778\n",
      "1   275   3480.2850930193517\n",
      "1   276   3478.6641953530243\n",
      "1   277   3477.7473004223234\n",
      "1   278   3477.515213859519\n",
      "1   279   3477.9478921829395\n",
      "1   280   3479.024397452687\n",
      "1   281   3480.722850057986\n",
      "1   282   3483.020379254198\n",
      "1   283   3485.8930707599106\n",
      "1   284   3489.3159122056227\n",
      "1   285   3493.262735344329\n",
      "1   286   3497.7061560145935\n",
      "1   287   3502.6175108642215\n",
      "1   288   3507.9667917154557\n",
      "1   289   3513.028878022052\n",
      "1   290   3518.5451022107864\n",
      "1   291   3524.5456867866897\n",
      "1   292   3531.0590135964017\n",
      "1   293   3538.1116951809977\n",
      "1   294   3545.7286381562744\n",
      "1   295   3553.9330983964537\n",
      "1   296   3562.7467281408094\n",
      "1   297   3572.189614615159\n",
      "1   298   3582.28031033729\n",
      "1   299   3593.0358543489024\n",
      "1   300   3604.471784692567\n",
      "1   301   3616.602141075373\n",
      "1   302   3629.439457433704\n",
      "1   303   3642.9947437949413\n",
      "1   304   3657.277455773367\n",
      "1   305   3672.2954517021317\n",
      "1   306   3688.054934617341\n",
      "1   307   3704.56037854945\n",
      "1   308   3721.8144360710317\n",
      "1   309   3739.8178253260435\n",
      "1   310   3758.569192770635\n",
      "1   311   3778.0649485601075\n",
      "1   312   3798.29906982602\n",
      "1   313   3819.2628666567775\n",
      "1   314   3840.9447041709896\n",
      "1   315   3863.3296734392884\n",
      "1   316   3886.3992015043104\n",
      "1   317   3910.130589558737\n",
      "1   318   3934.496465569615\n",
      "1   319   3959.464134880688\n"
     ]
    }
   ],
   "source": [
    "for i in range(num_vehicles):\n",
    "    for j in range(maximum_steps):\n",
    "        if abs(P_values[i][j]) > 1:\n",
    "            print(i,\" \",j,\" \",P_values[i][j])"
   ]
  },
  {
   "cell_type": "code",
   "execution_count": null,
   "id": "a8b31c60",
   "metadata": {},
   "outputs": [],
   "source": [
    "print(P.value)"
   ]
  },
  {
   "cell_type": "code",
   "execution_count": null,
   "id": "de0afdab",
   "metadata": {},
   "outputs": [],
   "source": [
    "print(sum(current_state[0].value))"
   ]
  },
  {
   "cell_type": "code",
   "execution_count": null,
   "id": "209b434c",
   "metadata": {},
   "outputs": [],
   "source": [
    "target_charge_volumn[0]"
   ]
  },
  {
   "cell_type": "code",
   "execution_count": null,
   "id": "17c49493",
   "metadata": {},
   "outputs": [],
   "source": []
  }
 ],
 "metadata": {
  "kernelspec": {
   "display_name": "Python 3 (ipykernel)",
   "language": "python",
   "name": "python3"
  },
  "language_info": {
   "codemirror_mode": {
    "name": "ipython",
    "version": 3
   },
   "file_extension": ".py",
   "mimetype": "text/x-python",
   "name": "python",
   "nbconvert_exporter": "python",
   "pygments_lexer": "ipython3",
   "version": "3.9.13"
  }
 },
 "nbformat": 4,
 "nbformat_minor": 5
}
