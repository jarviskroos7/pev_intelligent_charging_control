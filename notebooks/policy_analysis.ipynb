{
 "cells": [
  {
   "cell_type": "code",
   "execution_count": 165,
   "metadata": {},
   "outputs": [],
   "source": [
    "import numpy as np\n",
    "import pandas as pd\n",
    "from tqdm import tqdm\n",
    "import matplotlib as mpl\n",
    "import matplotlib.pyplot as plt\n",
    "plt.rcParams[\"figure.dpi\"] = 100"
   ]
  },
  {
   "cell_type": "code",
   "execution_count": 7,
   "metadata": {},
   "outputs": [],
   "source": [
    "policy = np.load('../rl/dynamic_td/final_case/final_greedy_policy_12min_charging_limit_iter5x120.npy')\n",
    "sessions = pd.read_csv('../data/sessions.csv', index_col=0)"
   ]
  },
  {
   "cell_type": "code",
   "execution_count": 8,
   "metadata": {},
   "outputs": [
    {
     "data": {
      "text/html": [
       "<div>\n",
       "<style scoped>\n",
       "    .dataframe tbody tr th:only-of-type {\n",
       "        vertical-align: middle;\n",
       "    }\n",
       "\n",
       "    .dataframe tbody tr th {\n",
       "        vertical-align: top;\n",
       "    }\n",
       "\n",
       "    .dataframe thead th {\n",
       "        text-align: right;\n",
       "    }\n",
       "</style>\n",
       "<table border=\"1\" class=\"dataframe\">\n",
       "  <thead>\n",
       "    <tr style=\"text-align: right;\">\n",
       "      <th></th>\n",
       "      <th>session_ID</th>\n",
       "      <th>Garage_ID</th>\n",
       "      <th>User_ID</th>\n",
       "      <th>User_type</th>\n",
       "      <th>Shared_ID</th>\n",
       "      <th>Start_plugin</th>\n",
       "      <th>Start_plugin_hour</th>\n",
       "      <th>End_plugout</th>\n",
       "      <th>End_plugout_hour</th>\n",
       "      <th>El_kWh</th>\n",
       "      <th>Duration_hours</th>\n",
       "      <th>month_plugin</th>\n",
       "      <th>weekdays_plugin</th>\n",
       "      <th>Plugin_category</th>\n",
       "      <th>Duration_category</th>\n",
       "      <th>end_soc</th>\n",
       "      <th>start_soc</th>\n",
       "      <th>start_day_idx</th>\n",
       "      <th>end_day_idx</th>\n",
       "      <th>max_energyCharged</th>\n",
       "    </tr>\n",
       "  </thead>\n",
       "  <tbody>\n",
       "    <tr>\n",
       "      <th>2</th>\n",
       "      <td>3</td>\n",
       "      <td>AdO3</td>\n",
       "      <td>AdO3-4</td>\n",
       "      <td>Private</td>\n",
       "      <td>NaN</td>\n",
       "      <td>2018-12-21 11:33:00</td>\n",
       "      <td>11</td>\n",
       "      <td>2018-12-21 19:46:00</td>\n",
       "      <td>19.0</td>\n",
       "      <td>29.87</td>\n",
       "      <td>8.216667</td>\n",
       "      <td>Dec</td>\n",
       "      <td>Friday</td>\n",
       "      <td>late morning (9-12)</td>\n",
       "      <td>Between 6 and 9  hours</td>\n",
       "      <td>1</td>\n",
       "      <td>0.631</td>\n",
       "      <td>69</td>\n",
       "      <td>118</td>\n",
       "      <td>82.166667</td>\n",
       "    </tr>\n",
       "    <tr>\n",
       "      <th>5</th>\n",
       "      <td>6</td>\n",
       "      <td>AdO3</td>\n",
       "      <td>AdO3-2</td>\n",
       "      <td>Private</td>\n",
       "      <td>NaN</td>\n",
       "      <td>2018-12-24 23:32:00</td>\n",
       "      <td>23</td>\n",
       "      <td>2018-12-25 17:37:00</td>\n",
       "      <td>17.0</td>\n",
       "      <td>16.14</td>\n",
       "      <td>18.083333</td>\n",
       "      <td>Dec</td>\n",
       "      <td>Monday</td>\n",
       "      <td>late evening (21-midnight)</td>\n",
       "      <td>More than 18 hours</td>\n",
       "      <td>1</td>\n",
       "      <td>0.800</td>\n",
       "      <td>141</td>\n",
       "      <td>105</td>\n",
       "      <td>180.833333</td>\n",
       "    </tr>\n",
       "    <tr>\n",
       "      <th>6</th>\n",
       "      <td>7</td>\n",
       "      <td>AdO3</td>\n",
       "      <td>AdO3-2</td>\n",
       "      <td>Private</td>\n",
       "      <td>NaN</td>\n",
       "      <td>2018-12-25 18:25:00</td>\n",
       "      <td>18</td>\n",
       "      <td>2018-12-26 16:08:00</td>\n",
       "      <td>16.0</td>\n",
       "      <td>10.33</td>\n",
       "      <td>21.716667</td>\n",
       "      <td>Dec</td>\n",
       "      <td>Tuesday</td>\n",
       "      <td>early evening (18-21)</td>\n",
       "      <td>More than 18 hours</td>\n",
       "      <td>1</td>\n",
       "      <td>0.872</td>\n",
       "      <td>110</td>\n",
       "      <td>96</td>\n",
       "      <td>217.166667</td>\n",
       "    </tr>\n",
       "    <tr>\n",
       "      <th>7</th>\n",
       "      <td>8</td>\n",
       "      <td>AdO3</td>\n",
       "      <td>AdO3-4</td>\n",
       "      <td>Private</td>\n",
       "      <td>NaN</td>\n",
       "      <td>2018-12-26 10:41:00</td>\n",
       "      <td>10</td>\n",
       "      <td>2018-12-26 16:52:00</td>\n",
       "      <td>16.0</td>\n",
       "      <td>27.66</td>\n",
       "      <td>6.183333</td>\n",
       "      <td>Dec</td>\n",
       "      <td>Wednesday</td>\n",
       "      <td>late morning (9-12)</td>\n",
       "      <td>Between 6 and 9  hours</td>\n",
       "      <td>1</td>\n",
       "      <td>0.658</td>\n",
       "      <td>64</td>\n",
       "      <td>101</td>\n",
       "      <td>61.833333</td>\n",
       "    </tr>\n",
       "    <tr>\n",
       "      <th>8</th>\n",
       "      <td>9</td>\n",
       "      <td>AdO3</td>\n",
       "      <td>AdO3-2</td>\n",
       "      <td>Private</td>\n",
       "      <td>NaN</td>\n",
       "      <td>2018-12-26 18:46:00</td>\n",
       "      <td>18</td>\n",
       "      <td>2018-12-26 21:08:00</td>\n",
       "      <td>21.0</td>\n",
       "      <td>8.83</td>\n",
       "      <td>2.366667</td>\n",
       "      <td>Dec</td>\n",
       "      <td>Wednesday</td>\n",
       "      <td>early evening (18-21)</td>\n",
       "      <td>Less than 3 hours</td>\n",
       "      <td>1</td>\n",
       "      <td>0.891</td>\n",
       "      <td>112</td>\n",
       "      <td>126</td>\n",
       "      <td>23.666667</td>\n",
       "    </tr>\n",
       "  </tbody>\n",
       "</table>\n",
       "</div>"
      ],
      "text/plain": [
       "   session_ID Garage_ID User_ID User_type Shared_ID         Start_plugin  \\\n",
       "2           3      AdO3  AdO3-4   Private       NaN  2018-12-21 11:33:00   \n",
       "5           6      AdO3  AdO3-2   Private       NaN  2018-12-24 23:32:00   \n",
       "6           7      AdO3  AdO3-2   Private       NaN  2018-12-25 18:25:00   \n",
       "7           8      AdO3  AdO3-4   Private       NaN  2018-12-26 10:41:00   \n",
       "8           9      AdO3  AdO3-2   Private       NaN  2018-12-26 18:46:00   \n",
       "\n",
       "   Start_plugin_hour          End_plugout  End_plugout_hour  El_kWh  \\\n",
       "2                 11  2018-12-21 19:46:00              19.0   29.87   \n",
       "5                 23  2018-12-25 17:37:00              17.0   16.14   \n",
       "6                 18  2018-12-26 16:08:00              16.0   10.33   \n",
       "7                 10  2018-12-26 16:52:00              16.0   27.66   \n",
       "8                 18  2018-12-26 21:08:00              21.0    8.83   \n",
       "\n",
       "   Duration_hours month_plugin weekdays_plugin             Plugin_category  \\\n",
       "2        8.216667          Dec          Friday         late morning (9-12)   \n",
       "5       18.083333          Dec          Monday  late evening (21-midnight)   \n",
       "6       21.716667          Dec         Tuesday       early evening (18-21)   \n",
       "7        6.183333          Dec       Wednesday         late morning (9-12)   \n",
       "8        2.366667          Dec       Wednesday       early evening (18-21)   \n",
       "\n",
       "        Duration_category  end_soc  start_soc  start_day_idx  end_day_idx  \\\n",
       "2  Between 6 and 9  hours        1      0.631             69          118   \n",
       "5      More than 18 hours        1      0.800            141          105   \n",
       "6      More than 18 hours        1      0.872            110           96   \n",
       "7  Between 6 and 9  hours        1      0.658             64          101   \n",
       "8       Less than 3 hours        1      0.891            112          126   \n",
       "\n",
       "   max_energyCharged  \n",
       "2          82.166667  \n",
       "5         180.833333  \n",
       "6         217.166667  \n",
       "7          61.833333  \n",
       "8          23.666667  "
      ]
     },
     "execution_count": 8,
     "metadata": {},
     "output_type": "execute_result"
    }
   ],
   "source": [
    "sessions.head()"
   ]
  },
  {
   "cell_type": "code",
   "execution_count": 161,
   "metadata": {},
   "outputs": [],
   "source": [
    "if 6 > 5:\n",
    "    if 1 > 1:\n",
    "        print('a')\n",
    "else:\n",
    "    print('c')"
   ]
  },
  {
   "cell_type": "code",
   "execution_count": 166,
   "metadata": {},
   "outputs": [],
   "source": [
    "highSOC_charging = np.zeros((int(1/0.02), 120))\n",
    "for i, deltaSOC in enumerate(np.linspace(0, 1, int(1/0.02))):\n",
    "    for j, deltaT in enumerate(np.arange(0, 120)):\n",
    "\n",
    "        T_to_soc_target = deltaSOC / 0.02\n",
    "        # if 3 * T_to_soc_target < deltaT:\n",
    "        #     highSOC_charging[i, j] = 1\n",
    "        if (T_to_soc_target**1.3 < deltaT) & (deltaSOC <= 0.25 or deltaSOC >= 0.35):\n",
    "            highSOC_charging[i, j] = 1\n",
    "        elif T_to_soc_target < deltaT:\n",
    "            highSOC_charging[i, j] = 0.25\n",
    "        else:\n",
    "            pass"
   ]
  },
  {
   "cell_type": "code",
   "execution_count": 167,
   "metadata": {},
   "outputs": [
    {
     "data": {
      "image/png": "[encoded data removed]",
      "text/plain": [
       "<Figure size 600x500 with 2 Axes>"
      ]
     },
     "metadata": {
      "needs_background": "light"
     },
     "output_type": "display_data"
    }
   ],
   "source": [
    "plt.figure(figsize=(6, 5))\n",
    "plt.matshow(highSOC_charging, fignum=1, aspect='auto', cmap=mpl.cm.Greys)\n",
    "plt.xlabel('deltaT x 12min')\n",
    "plt.ylabel('deltaSOC x 2%')\n",
    "plt.xticks(np.arange(0, 120, 10))\n",
    "# plt.yticks(np.arange(0, 50, 10), np.linspace(0, 1, 5).round(1))\n",
    "plt.title('Constraint: High Relative SOC')\n",
    "plt.grid()\n",
    "plt.colorbar()\n",
    "plt.show()"
   ]
  },
  {
   "cell_type": "code",
   "execution_count": 122,
   "metadata": {},
   "outputs": [
    {
     "data": {
      "image/png": "[encoded data removed]",
      "text/plain": [
       "<Figure size 432x360 with 2 Axes>"
      ]
     },
     "metadata": {
      "needs_background": "light"
     },
     "output_type": "display_data"
    }
   ],
   "source": [
    "plt.figure(figsize=(6, 5))\n",
    "plt.matshow(highSOC_charging, fignum=1, aspect='auto', cmap=mpl.cm.Greys)\n",
    "plt.xlabel('deltaT x 12min')\n",
    "plt.ylabel('deltaSOC x 2%')\n",
    "plt.xticks(np.arange(0, 120, 10))\n",
    "# plt.yticks(np.arange(0, 50, 10), np.linspace(0, 1, 5).round(1))\n",
    "plt.title('Constraint: High Relative SOC')\n",
    "plt.grid()\n",
    "plt.colorbar()\n",
    "plt.show()"
   ]
  },
  {
   "cell_type": "code",
   "execution_count": 94,
   "metadata": {},
   "outputs": [
    {
     "data": {
      "image/png": "[encoded data removed]",
      "text/plain": [
       "<Figure size 432x360 with 2 Axes>"
      ]
     },
     "metadata": {
      "needs_background": "light"
     },
     "output_type": "display_data"
    }
   ],
   "source": [
    "plt.figure(figsize=(6, 5))\n",
    "plt.matshow(highSOC_charging, fignum=1, aspect='auto', cmap=mpl.cm.Greys)\n",
    "plt.xlabel('deltaT x 12min')\n",
    "plt.ylabel('deltaSOC x 2%')\n",
    "plt.xticks(np.arange(0, 120, 10))\n",
    "# plt.yticks(np.arange(0, 50, 10), np.linspace(0, 1, 5).round(1))\n",
    "plt.title('Constraint: High Relative SOC')\n",
    "plt.grid()\n",
    "plt.colorbar()\n",
    "plt.show()"
   ]
  },
  {
   "cell_type": "code",
   "execution_count": 27,
   "metadata": {},
   "outputs": [
    {
     "data": {
      "image/png": "[encoded data removed]",
      "text/plain": [
       "<Figure size 432x288 with 1 Axes>"
      ]
     },
     "metadata": {
      "needs_background": "light"
     },
     "output_type": "display_data"
    }
   ],
   "source": [
    "x = [0,5,9,10,15]\n",
    "y = [0,1,2,3,4]\n",
    "plt.plot(x,y)\n",
    "plt.xticks(np.arange(min(x), max(x)+1, 2.0))\n",
    "plt.show()"
   ]
  },
  {
   "cell_type": "code",
   "execution_count": null,
   "metadata": {},
   "outputs": [],
   "source": []
  }
 ],
 "metadata": {
  "kernelspec": {
   "display_name": "geo_env",
   "language": "python",
   "name": "python3"
  },
  "language_info": {
   "codemirror_mode": {
    "name": "ipython",
    "version": 3
   },
   "file_extension": ".py",
   "mimetype": "text/x-python",
   "name": "python",
   "nbconvert_exporter": "python",
   "pygments_lexer": "ipython3",
   "version": "3.8.16"
  },
  "orig_nbformat": 4
 },
 "nbformat": 4,
 "nbformat_minor": 2
}
