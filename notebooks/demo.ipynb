{
 "cells": [
  {
   "cell_type": "code",
   "execution_count": 120,
   "id": "f4a925f5",
   "metadata": {},
   "outputs": [],
   "source": [
    "import numpy as np\n",
    "import matplotlib.pyplot as plt\n",
    "import matplotlib as mpl\n",
    "from tqdm import tqdm"
   ]
  },
  {
   "cell_type": "code",
   "execution_count": 9,
   "id": "80809055",
   "metadata": {},
   "outputs": [],
   "source": [
    "voltage = 240\n",
    "battery_volume = 60 * 1000 / voltage #amp\n",
    "resistance = 0\n",
    "power_boundary = 9.6* 1000\n",
    "power_boundary_decrease_point= 0.8"
   ]
  },
  {
   "cell_type": "code",
   "execution_count": 11,
   "id": "f3caa4bf",
   "metadata": {},
   "outputs": [],
   "source": [
    "action_size = 2\n",
    "actions = [i for i in range(action_size)]\n",
    "actions_prob = 1/action_size\n",
    "charge_interval = 30\n",
    "state_size_delta_soc = 101\n",
    "state_size_delta_time = int((24*60/charge_interval))\n",
    "state_size_time = int((24*60/charge_interval) *2)"
   ]
  },
  {
   "cell_type": "code",
   "execution_count": 12,
   "id": "c5a257fa",
   "metadata": {},
   "outputs": [
    {
     "name": "stdout",
     "output_type": "stream",
     "text": [
      "[ 0. 40.]\n"
     ]
    }
   ],
   "source": [
    "current_list = np.linspace(0,40,action_size)\n",
    "print(current_list)"
   ]
  },
  {
   "cell_type": "code",
   "execution_count": 13,
   "id": "0ccf482d",
   "metadata": {},
   "outputs": [],
   "source": [
    "price_max_value = 1"
   ]
  },
  {
   "cell_type": "code",
   "execution_count": 14,
   "id": "2d0cb73f",
   "metadata": {},
   "outputs": [],
   "source": [
    "x = np.linspace(0, int(state_size_time)-1, int(state_size_time))\n",
    "price_curve = price_max_value/((state_size_time/2)**2) * (x-(state_size_time/2))**2"
   ]
  },
  {
   "cell_type": "code",
   "execution_count": null,
   "id": "82879dd8",
   "metadata": {},
   "outputs": [],
   "source": [
    "action_space = [i for i in range(action_size)]"
   ]
  },
  {
   "cell_type": "code",
   "execution_count": null,
   "id": "68b3d7b2",
   "metadata": {},
   "outputs": [],
   "source": [
    "def step(state, action):\n",
    "    new_state = [0, 0, 0]\n",
    "    delta_soc = np.round(current_list[action] * charge_interval / battery_volume / 60, 1)\n",
    "    new_state[0] = state[0] - delta_soc\n",
    "    new_state[1] = state[1] - 1\n",
    "    new_state[2] = state[2] + 1\n",
    "\n",
    "    #     new_state[0] = np.round(state[0]*(1+increase_rate_tumor/100),1)\n",
    "    #     new_state[1] = np.round(state[1]*(1+increase_rate_bad_feeling/100),1)\n",
    "    #     new_state[0] = min(10, new_state[0])\n",
    "    #     new_state[1] = min(10, new_state[1])\n",
    "    #     new_state[0] = max(1, new_state[0])\n",
    "    #     new_state[1] = max(1, new_state[1])\n",
    "    #     new_state[2] = max(drugB_usage, state[2])\n",
    "    if new_state[1] < 0:\n",
    "        raise Exception(\"delta time out of bound\")\n",
    "    if new_state[2] >= state_size_time:\n",
    "        raise Exception(\"current time out of bound\")\n",
    "\n",
    "\n",
    "    reward = -delta_soc * price_curve[state[2]]\n",
    "    done = False\n",
    "    if ((new_state[0] <= 0) or (new_state[1] <= 0) or (new_state[2] >= state_size_time)):\n",
    "        if new_state[0] <= 0:\n",
    "            reward += 1000\n",
    "        done = True\n",
    "    return new_state, reward, done"
   ]
  },
  {
   "cell_type": "code",
   "execution_count": null,
   "id": "bf8d83ca",
   "metadata": {},
   "outputs": [],
   "source": [
    "def get_index(state):\n",
    "    index = int(state/0.1)\n",
    "    return index"
   ]
  },
  {
   "cell_type": "code",
   "execution_count": null,
   "id": "8dbaf10c",
   "metadata": {},
   "outputs": [],
   "source": [
    "def compute_state_value(max_iter=9, discount=1.0, policy=actions_prob * np.ones(\n",
    "    (state_size_delta_soc, state_size_delta_time, state_size_time, action_size))):\n",
    "    new_state_values = np.zeros((state_size_delta_soc, state_size_delta_time, state_size_time))\n",
    "    iteration = 0\n",
    "\n",
    "    # while iteration <= max_iter:\n",
    "    for _ in tqdm(range(max_iter)):\n",
    "        state_values = new_state_values.copy()\n",
    "        old_state_values = state_values.copy()\n",
    "\n",
    "        for i in np.linspace(0, 1, state_size_delta_soc):\n",
    "            for j in range(1, int(state_size_delta_time)):\n",
    "                for m in range(int(state_size_time)-1):\n",
    "                    i = np.round(i, 1)\n",
    "                    j = np.round(j, 1)\n",
    "                    index_i = get_index(i)\n",
    "                    value = 0\n",
    "                    for k, a in enumerate(actions):\n",
    "                        (next_i, next_j, next_m), reward, done = step([i, j, m], a)\n",
    "                        next_index_i = get_index(next_i)\n",
    "                        value += policy[index_i, j, m, k] * (\n",
    "                                    reward + discount * state_values[next_index_i, next_j, next_m])\n",
    "                    new_state_values[index_i, j, m] = value\n",
    "\n",
    "        iteration += 1\n",
    "\n",
    "    return new_state_values, iteration"
   ]
  },
  {
   "cell_type": "code",
   "execution_count": null,
   "id": "acd9333e",
   "metadata": {},
   "outputs": [],
   "source": [
    "# values, sync_iteration = compute_state_value(max_iter=1)"
   ]
  },
  {
   "cell_type": "code",
   "execution_count": null,
   "id": "29ee6bfc",
   "metadata": {},
   "outputs": [],
   "source": [
    "def greedy_Policy(values,discount = 1):\n",
    "    new_state_values = values\n",
    "    policy = np.zeros((state_size_delta_soc, state_size_delta_time, state_size_time, action_size))\n",
    "#     policy = np.zeros((grid_size,grid_size,4))\n",
    "\n",
    "    state_values = new_state_values.copy()\n",
    "    \n",
    "    for i in np.linspace(0, 1, state_size_delta_soc):\n",
    "        print(i)\n",
    "        for j in range(1, int(state_size_delta_time)):\n",
    "            for m in range(int(state_size_time)-1):\n",
    "                value = np.min(values)\n",
    "                for k,a in enumerate(actions):\n",
    "                    i = np.round(i, 1)\n",
    "                    index_i = get_index(i)\n",
    "                    (next_i, next_j, next_m), reward, done = step([i, j, m], a)\n",
    "                    next_index_i = get_index(next_i)\n",
    "                    valtemp = reward + discount * state_values[next_index_i, next_j,next_m]\n",
    "                    if valtemp > value:\n",
    "                        actionind = k\n",
    "                policy[index_i,j,m,actionind] = 1\n",
    "                    \n",
    "#     for i in range(grid_size):\n",
    "#         for j in range(grid_size):\n",
    "#             value = np.min(values);\n",
    "#             for k,a in enumerate(actions):\n",
    "#                 (next_i, next_j), reward = step([i, j], a)\n",
    "#                 valtemp = reward + discount * state_values[next_i, next_j]\n",
    "#                 if valtemp > value:\n",
    "#                   value = valtemp\n",
    "#                   actionind = k\n",
    "\n",
    "#             policy[i,j,actionind] = 1\n",
    "\n",
    "    return policy"
   ]
  },
  {
   "cell_type": "code",
   "execution_count": null,
   "id": "793f7155",
   "metadata": {},
   "outputs": [],
   "source": [
    "policy0 = actions_prob * np.ones((state_size_delta_soc, state_size_delta_time, state_size_time, action_size))\n",
    "values, sync_iteration = compute_state_value(max_iter=5, policy = policy0)\n",
    "greedy_policy = greedy_Policy(values)\n",
    "\n",
    "values, sync_iteration = compute_state_value(max_iter=5, policy = greedy_policy)\n",
    "greedy_policy = greedy_Policy(values)\n",
    "values, sync_iteration = compute_state_value(max_iter=5, policy = greedy_policy)\n",
    "greedy_policy = greedy_Policy(values)\n",
    "\n",
    "plt.matshow(greedy_policy[:, :, 95, 1])\n",
    "plt.show()"
   ]
  },
  {
   "cell_type": "code",
   "execution_count": 185,
   "id": "9229ce96",
   "metadata": {},
   "outputs": [],
   "source": [
    "greedy_policy = np.load('greedy_policy_iter10.npy')"
   ]
  },
  {
   "cell_type": "code",
   "execution_count": 186,
   "id": "d736bfe0",
   "metadata": {},
   "outputs": [],
   "source": [
    "def check_policy(delta_soc, delta_t, current_t):\n",
    "    I = np.zeros(96)\n",
    "\n",
    "    for t in range(delta_t):\n",
    "        action = greedy_policy[delta_soc, delta_t, current_t, 1]\n",
    "        I[current_t] = greedy_policy[delta_soc, delta_t, current_t, 1]\n",
    "        if action == 1:\n",
    "            # charging\n",
    "            delta_soc -= 1\n",
    "        else:\n",
    "            pass\n",
    "        delta_t -= 1\n",
    "        current_t += 1\n",
    "    \n",
    "    return I"
   ]
  },
  {
   "cell_type": "code",
   "execution_count": 198,
   "id": "d83a7bd3",
   "metadata": {},
   "outputs": [
    {
     "name": "stdout",
     "output_type": "stream",
     "text": [
      "socCharged for delta_soc = 0 is 0.0\n",
      "socCharged for delta_soc = 1 is 1.0\n",
      "socCharged for delta_soc = 2 is 2.0\n",
      "socCharged for delta_soc = 3 is 3.0\n",
      "socCharged for delta_soc = 4 is 4.0\n",
      "socCharged for delta_soc = 5 is 5.0\n",
      "socCharged for delta_soc = 6 is 6.0\n",
      "socCharged for delta_soc = 7 is 7.0\n",
      "socCharged for delta_soc = 8 is 8.0\n",
      "socCharged for delta_soc = 9 is 9.0\n",
      "socCharged for delta_soc = 10 is 10.0\n"
     ]
    }
   ],
   "source": [
    "I_delta_soc = []\n",
    "delta_t = 47\n",
    "current_t = 0\n",
    "assert current_t + delta_t <= 96\n",
    "\n",
    "for delta_soc in np.arange(0, 11):\n",
    "    assert delta_soc <= delta_t\n",
    "    I = check_policy(delta_soc, delta_t, current_t)\n",
    "    I_delta_soc.append(I)\n",
    "    print(f'socCharged for delta_soc = {delta_soc} is {sum(I)}')\n"
   ]
  },
  {
   "cell_type": "code",
   "execution_count": 199,
   "id": "66bff824",
   "metadata": {},
   "outputs": [
    {
     "data": {
      "image/png": "[encoded data removed]",
      "text/plain": [
       "<Figure size 1152x144 with 1 Axes>"
      ]
     },
     "metadata": {
      "needs_background": "light"
     },
     "output_type": "display_data"
    }
   ],
   "source": [
    "time_window = np.zeros(96)\n",
    "t = current_t\n",
    "\n",
    "for _ in range(delta_t):\n",
    "    if t <= current_t + delta_t:\n",
    "        time_window[t] = 1\n",
    "        t += 1\n",
    "\n",
    "plt.matshow(np.array(time_window)[np.newaxis, :], cmap=mpl.cm.Greys)\n",
    "plt.show()"
   ]
  },
  {
   "cell_type": "code",
   "execution_count": 196,
   "id": "3befdb02",
   "metadata": {},
   "outputs": [
    {
     "data": {
      "image/png": "[encoded data removed]",
      "text/plain": [
       "<Figure size 1152x144 with 1 Axes>"
      ]
     },
     "metadata": {
      "needs_background": "light"
     },
     "output_type": "display_data"
    }
   ],
   "source": [
    "price_max_value = 1\n",
    "x = np.linspace(0, int(state_size_delta_time)-1, int(state_size_delta_time))\n",
    "price_curve = price_max_value/((state_size_delta_time/2)**2) * (x-(state_size_delta_time/2))**2\n",
    "price_curve = np.concatenate((price_curve,price_curve),axis =0)\n",
    "\n",
    "plt.matshow(price_curve[np.newaxis, :], cmap=mpl.cm.Greys)\n",
    "plt.show()"
   ]
  },
  {
   "cell_type": "code",
   "execution_count": 200,
   "id": "4557e2b8",
   "metadata": {},
   "outputs": [
    {
     "data": {
      "image/png": "[encoded data removed]",
      "text/plain": [
       "<Figure size 1152x144 with 1 Axes>"
      ]
     },
     "metadata": {
      "needs_background": "light"
     },
     "output_type": "display_data"
    }
   ],
   "source": [
    "plt.matshow(np.array(I_delta_soc))\n",
    "plt.xticks(np.arange(0, 96, 10))\n",
    "plt.yticks(np.arange(0, 11, 1))\n",
    "plt.show()"
   ]
  },
  {
   "cell_type": "code",
   "execution_count": 189,
   "id": "ccfeae83",
   "metadata": {},
   "outputs": [
    {
     "data": {
      "image/png": "[encoded data removed]",
      "text/plain": [
       "<Figure size 1152x144 with 1 Axes>"
      ]
     },
     "metadata": {
      "needs_background": "light"
     },
     "output_type": "display_data"
    },
    {
     "name": "stdout",
     "output_type": "stream",
     "text": [
      "6.0\n"
     ]
    }
   ],
   "source": [
    "I = check_policy(6, delta_t, current_t)\n",
    "plt.matshow(np.array(I)[np.newaxis, :])\n",
    "plt.show()\n",
    "print(sum(I))"
   ]
  },
  {
   "cell_type": "code",
   "execution_count": 22,
   "id": "ef42fbb0",
   "metadata": {},
   "outputs": [
    {
     "data": {
      "image/png": "[encoded data removed]",
      "text/plain": [
       "<Figure size 576x288 with 1 Axes>"
      ]
     },
     "metadata": {
      "needs_background": "light"
     },
     "output_type": "display_data"
    }
   ],
   "source": [
    "plt.matshow(greedy_policy[10, 24, :, 1])\n",
    "plt.show()"
   ]
  },
  {
   "cell_type": "code",
   "execution_count": null,
   "id": "8d49e280",
   "metadata": {},
   "outputs": [],
   "source": []
  }
 ],
 "metadata": {
  "kernelspec": {
   "display_name": "Python 3 (ipykernel)",
   "language": "python",
   "name": "python3"
  },
  "language_info": {
   "codemirror_mode": {
    "name": "ipython",
    "version": 3
   },
   "file_extension": ".py",
   "mimetype": "text/x-python",
   "name": "python",
   "nbconvert_exporter": "python",
   "pygments_lexer": "ipython3",
   "version": "3.8.16"
  }
 },
 "nbformat": 4,
 "nbformat_minor": 5
}
