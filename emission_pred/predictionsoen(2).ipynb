{
  "cells": [
    {
      "cell_type": "code",
      "execution_count": 103,
      "metadata": {
        "id": "nWDZ328Wa6NN"
      },
      "outputs": [],
      "source": [
        "import pandas as pd\n",
        "import numpy as np\n",
        "\n",
        "from keras.models import Sequential\n",
        "from keras.layers import Dense\n"
      ]
    },
    {
      "cell_type": "code",
      "execution_count": 104,
      "metadata": {
        "id": "QMqFW6o4a6NO"
      },
      "outputs": [],
      "source": [
        "data=pd.read_csv('data.csv')"
      ]
    },
    {
      "cell_type": "code",
      "source": [
        "median_MOER = data['MOER'].median()\n",
        "data['MOER'] = np.where(data['MOER'] < 750, median_MOER, data['MOER'])"
      ],
      "metadata": {
        "id": "b3HhrTa33dcj"
      },
      "execution_count": 105,
      "outputs": []
    },
    {
      "cell_type": "code",
      "source": [
        "data1=pd.read_csv('data1.csv')\n",
        "median_MOER1 = data1['MOER'].median()\n",
        "data1['MOER'] = np.where(data1['MOER'] < 750, median_MOER1, data1['MOER'])"
      ],
      "metadata": {
        "id": "fp7B_EnykU50"
      },
      "execution_count": 162,
      "outputs": []
    },
    {
      "cell_type": "code",
      "execution_count": null,
      "metadata": {
        "id": "Kvjpjupja6NO",
        "outputId": "3136dcc4-a350-4406-b96e-2d81822066e5"
      },
      "outputs": [
        {
          "data": {
            "text/html": [
              "<div>\n",
              "<style scoped>\n",
              "    .dataframe tbody tr th:only-of-type {\n",
              "        vertical-align: middle;\n",
              "    }\n",
              "\n",
              "    .dataframe tbody tr th {\n",
              "        vertical-align: top;\n",
              "    }\n",
              "\n",
              "    .dataframe thead th {\n",
              "        text-align: right;\n",
              "    }\n",
              "</style>\n",
              "<table border=\"1\" class=\"dataframe\">\n",
              "  <thead>\n",
              "    <tr style=\"text-align: right;\">\n",
              "      <th></th>\n",
              "      <th>timestamp</th>\n",
              "      <th>MOER</th>\n",
              "      <th>MOER version</th>\n",
              "      <th>frequency</th>\n",
              "    </tr>\n",
              "  </thead>\n",
              "  <tbody>\n",
              "    <tr>\n",
              "      <th>0</th>\n",
              "      <td>2021-12-01T00:00:00+00:00</td>\n",
              "      <td>950</td>\n",
              "      <td>3</td>\n",
              "      <td>300</td>\n",
              "    </tr>\n",
              "    <tr>\n",
              "      <th>1</th>\n",
              "      <td>2021-12-01T00:05:00+00:00</td>\n",
              "      <td>971</td>\n",
              "      <td>3</td>\n",
              "      <td>300</td>\n",
              "    </tr>\n",
              "    <tr>\n",
              "      <th>2</th>\n",
              "      <td>2021-12-01T00:10:00+00:00</td>\n",
              "      <td>964</td>\n",
              "      <td>3</td>\n",
              "      <td>300</td>\n",
              "    </tr>\n",
              "    <tr>\n",
              "      <th>3</th>\n",
              "      <td>2021-12-01T00:15:00+00:00</td>\n",
              "      <td>968</td>\n",
              "      <td>3</td>\n",
              "      <td>300</td>\n",
              "    </tr>\n",
              "    <tr>\n",
              "      <th>4</th>\n",
              "      <td>2021-12-01T00:20:00+00:00</td>\n",
              "      <td>966</td>\n",
              "      <td>3</td>\n",
              "      <td>300</td>\n",
              "    </tr>\n",
              "    <tr>\n",
              "      <th>...</th>\n",
              "      <td>...</td>\n",
              "      <td>...</td>\n",
              "      <td>...</td>\n",
              "      <td>...</td>\n",
              "    </tr>\n",
              "    <tr>\n",
              "      <th>8923</th>\n",
              "      <td>2021-12-31T23:35:00+00:00</td>\n",
              "      <td>1039</td>\n",
              "      <td>3</td>\n",
              "      <td>300</td>\n",
              "    </tr>\n",
              "    <tr>\n",
              "      <th>8924</th>\n",
              "      <td>2021-12-31T23:40:00+00:00</td>\n",
              "      <td>1072</td>\n",
              "      <td>3</td>\n",
              "      <td>300</td>\n",
              "    </tr>\n",
              "    <tr>\n",
              "      <th>8925</th>\n",
              "      <td>2021-12-31T23:45:00+00:00</td>\n",
              "      <td>1071</td>\n",
              "      <td>3</td>\n",
              "      <td>300</td>\n",
              "    </tr>\n",
              "    <tr>\n",
              "      <th>8926</th>\n",
              "      <td>2021-12-31T23:50:00+00:00</td>\n",
              "      <td>1080</td>\n",
              "      <td>3</td>\n",
              "      <td>300</td>\n",
              "    </tr>\n",
              "    <tr>\n",
              "      <th>8927</th>\n",
              "      <td>2021-12-31T23:55:00+00:00</td>\n",
              "      <td>1078</td>\n",
              "      <td>3</td>\n",
              "      <td>300</td>\n",
              "    </tr>\n",
              "  </tbody>\n",
              "</table>\n",
              "<p>8928 rows × 4 columns</p>\n",
              "</div>"
            ],
            "text/plain": [
              "                      timestamp  MOER  MOER version  frequency\n",
              "0     2021-12-01T00:00:00+00:00   950             3        300\n",
              "1     2021-12-01T00:05:00+00:00   971             3        300\n",
              "2     2021-12-01T00:10:00+00:00   964             3        300\n",
              "3     2021-12-01T00:15:00+00:00   968             3        300\n",
              "4     2021-12-01T00:20:00+00:00   966             3        300\n",
              "...                         ...   ...           ...        ...\n",
              "8923  2021-12-31T23:35:00+00:00  1039             3        300\n",
              "8924  2021-12-31T23:40:00+00:00  1072             3        300\n",
              "8925  2021-12-31T23:45:00+00:00  1071             3        300\n",
              "8926  2021-12-31T23:50:00+00:00  1080             3        300\n",
              "8927  2021-12-31T23:55:00+00:00  1078             3        300\n",
              "\n",
              "[8928 rows x 4 columns]"
            ]
          },
          "execution_count": 32,
          "metadata": {},
          "output_type": "execute_result"
        }
      ],
      "source": [
        "data"
      ]
    },
    {
      "cell_type": "code",
      "source": [
        "data_test= data1['MOER']"
      ],
      "metadata": {
        "id": "s42un7nCkfts"
      },
      "execution_count": 167,
      "outputs": []
    },
    {
      "cell_type": "code",
      "execution_count": 168,
      "metadata": {
        "id": "g4ExR47ia6NP"
      },
      "outputs": [],
      "source": [
        "data_model= data['MOER']"
      ]
    },
    {
      "cell_type": "code",
      "execution_count": 4,
      "metadata": {
        "colab": {
          "base_uri": "https://localhost:8080/"
        },
        "id": "ZV0Q8-uYa6NP",
        "outputId": "04571ef6-46ac-46aa-8abb-90b2cd1218c3"
      },
      "outputs": [
        {
          "output_type": "execute_result",
          "data": {
            "text/plain": [
              "0    950\n",
              "1    971\n",
              "2    964\n",
              "3    968\n",
              "4    966\n",
              "5    965\n",
              "6    965\n",
              "7    961\n",
              "8    959\n",
              "9    957\n",
              "Name: MOER, dtype: int64"
            ]
          },
          "metadata": {},
          "execution_count": 4
        }
      ],
      "source": [
        "data_model[:10]"
      ]
    },
    {
      "cell_type": "code",
      "execution_count": 309,
      "metadata": {
        "id": "k2hTwkVoa6NQ"
      },
      "outputs": [],
      "source": [
        "def prepare_data(data, n_prev=24):\n",
        "    X, y = [], []\n",
        "    for i in range(n_prev, len(data)):\n",
        "        X.append(data.iloc[i-n_prev:i])\n",
        "        y.append(data.iloc[i])\n",
        "    return np.array(X), np.array(y)\n"
      ]
    },
    {
      "cell_type": "code",
      "execution_count": 310,
      "metadata": {
        "id": "-cXP1gowa6NR"
      },
      "outputs": [],
      "source": [
        "train_size = int(len(data) * 0.8)\n",
        "train_data = data_model.iloc[:train_size]\n",
        "test_data = data_model.iloc[train_size:]\n"
      ]
    },
    {
      "cell_type": "code",
      "execution_count": 311,
      "metadata": {
        "id": "vEBPbv2va6NR"
      },
      "outputs": [],
      "source": [
        "X_train, y_train = prepare_data(train_data)\n",
        "X_test, y_test = prepare_data(test_data)\n"
      ]
    },
    {
      "cell_type": "code",
      "source": [
        "X_train[0]"
      ],
      "metadata": {
        "colab": {
          "base_uri": "https://localhost:8080/"
        },
        "id": "itFsubOBDIYd",
        "outputId": "558cdf2a-5b93-473a-c5c8-07c31f9fc2f8"
      },
      "execution_count": 297,
      "outputs": [
        {
          "output_type": "execute_result",
          "data": {
            "text/plain": [
              "array([950., 971., 964., 968., 966., 965., 965., 961., 959., 957., 955.,\n",
              "       953., 952., 959., 943., 941., 951., 952., 956., 957., 959., 963.,\n",
              "       966., 966.])"
            ]
          },
          "metadata": {},
          "execution_count": 297
        }
      ]
    },
    {
      "cell_type": "code",
      "source": [
        "y_train[0]"
      ],
      "metadata": {
        "colab": {
          "base_uri": "https://localhost:8080/"
        },
        "id": "FDpuwjSADK-N",
        "outputId": "62faee48-d58d-40e3-d972-b33bf2746f3b"
      },
      "execution_count": 298,
      "outputs": [
        {
          "output_type": "execute_result",
          "data": {
            "text/plain": [
              "array([966., 965., 962., 961., 960., 959., 959., 961., 961., 961., 963.,\n",
              "       962., 962., 949., 960., 964., 968., 967., 965., 964., 964., 963.,\n",
              "       962., 968.])"
            ]
          },
          "metadata": {},
          "execution_count": 298
        }
      ]
    },
    {
      "cell_type": "code",
      "source": [
        "X_TEST_OVERFIT,Y_TEST_OVERFIT = prepare_data(data_test)\n"
      ],
      "metadata": {
        "id": "Dwrl2GYkkwLd"
      },
      "execution_count": 322,
      "outputs": []
    },
    {
      "cell_type": "code",
      "execution_count": 325,
      "metadata": {
        "id": "HNHumh1Xa6NR"
      },
      "outputs": [],
      "source": [
        "model = Sequential()\n",
        "model.add(Dense(64, activation='relu', input_dim=X_train.shape[1]))\n",
        "model.add(Dense(40, activation='linear'))\n",
        "model.add(Dense(32, activation='relu'))\n",
        "model.add(Dense(27, activation='linear'))\n",
        "model.add(Dense(20, activation='linear'))\n",
        "model.add(Dense(17, activation='relu'))\n",
        "model.add(Dense(15, activation='relu'))\n",
        "model.add(Dense(10, activation='relu'))\n",
        "model.add(Dense(1, activation='linear'))\n",
        "model.compile(loss='mse', optimizer='adam')\n"
      ]
    },
    {
      "cell_type": "code",
      "execution_count": 326,
      "metadata": {
        "colab": {
          "base_uri": "https://localhost:8080/"
        },
        "id": "_BNc-suCa6NS",
        "outputId": "d5e6e805-56dd-4dcf-ab8a-eccfb8e273d2"
      },
      "outputs": [
        {
          "output_type": "stream",
          "name": "stdout",
          "text": [
            "Epoch 1/50\n",
            "201/201 [==============================] - 2s 3ms/step - loss: 19664.7383 - val_loss: 2070.5820\n",
            "Epoch 2/50\n",
            "201/201 [==============================] - 0s 2ms/step - loss: 1985.9916 - val_loss: 1086.6753\n",
            "Epoch 3/50\n",
            "201/201 [==============================] - 0s 2ms/step - loss: 1415.8014 - val_loss: 1396.3889\n",
            "Epoch 4/50\n",
            "201/201 [==============================] - 1s 3ms/step - loss: 1460.8741 - val_loss: 601.8397\n",
            "Epoch 5/50\n",
            "201/201 [==============================] - 1s 3ms/step - loss: 1086.0831 - val_loss: 801.3996\n",
            "Epoch 6/50\n",
            "201/201 [==============================] - 1s 3ms/step - loss: 1094.2651 - val_loss: 1245.2365\n",
            "Epoch 7/50\n",
            "201/201 [==============================] - 0s 2ms/step - loss: 1060.8259 - val_loss: 540.1172\n",
            "Epoch 8/50\n",
            "201/201 [==============================] - 1s 3ms/step - loss: 984.0404 - val_loss: 1855.4163\n",
            "Epoch 9/50\n",
            "201/201 [==============================] - 2s 8ms/step - loss: 1016.3120 - val_loss: 468.0605\n",
            "Epoch 10/50\n",
            "201/201 [==============================] - 1s 3ms/step - loss: 922.1052 - val_loss: 452.6027\n",
            "Epoch 11/50\n",
            "201/201 [==============================] - 1s 2ms/step - loss: 1058.4171 - val_loss: 2968.5496\n",
            "Epoch 12/50\n",
            "201/201 [==============================] - 0s 2ms/step - loss: 1032.8630 - val_loss: 433.7135\n",
            "Epoch 13/50\n",
            "201/201 [==============================] - 0s 2ms/step - loss: 874.3748 - val_loss: 1383.1898\n",
            "Epoch 14/50\n",
            "201/201 [==============================] - 1s 3ms/step - loss: 973.5840 - val_loss: 497.8054\n",
            "Epoch 15/50\n",
            "201/201 [==============================] - 0s 2ms/step - loss: 978.2533 - val_loss: 412.4921\n",
            "Epoch 16/50\n",
            "201/201 [==============================] - 1s 3ms/step - loss: 962.4583 - val_loss: 448.1254\n",
            "Epoch 17/50\n",
            "201/201 [==============================] - 1s 3ms/step - loss: 905.2535 - val_loss: 404.8564\n",
            "Epoch 18/50\n",
            "201/201 [==============================] - 0s 2ms/step - loss: 871.1439 - val_loss: 427.4405\n",
            "Epoch 19/50\n",
            "201/201 [==============================] - 0s 2ms/step - loss: 806.5812 - val_loss: 453.6461\n",
            "Epoch 20/50\n",
            "201/201 [==============================] - 1s 3ms/step - loss: 856.5566 - val_loss: 477.0239\n",
            "Epoch 21/50\n",
            "201/201 [==============================] - 0s 2ms/step - loss: 950.3817 - val_loss: 673.4699\n",
            "Epoch 22/50\n",
            "201/201 [==============================] - 0s 2ms/step - loss: 933.1166 - val_loss: 1732.4459\n",
            "Epoch 23/50\n",
            "201/201 [==============================] - 1s 3ms/step - loss: 830.8423 - val_loss: 446.4640\n",
            "Epoch 24/50\n",
            "201/201 [==============================] - 1s 3ms/step - loss: 849.7352 - val_loss: 728.0134\n",
            "Epoch 25/50\n",
            "201/201 [==============================] - 1s 3ms/step - loss: 801.2770 - val_loss: 481.2352\n",
            "Epoch 26/50\n",
            "201/201 [==============================] - 1s 3ms/step - loss: 852.6310 - val_loss: 524.9193\n",
            "Epoch 27/50\n",
            "201/201 [==============================] - 0s 2ms/step - loss: 812.9649 - val_loss: 895.4031\n",
            "Epoch 28/50\n",
            "201/201 [==============================] - 1s 3ms/step - loss: 817.3861 - val_loss: 483.3166\n",
            "Epoch 29/50\n",
            "201/201 [==============================] - 1s 3ms/step - loss: 762.6136 - val_loss: 471.7153\n",
            "Epoch 30/50\n",
            "201/201 [==============================] - 1s 4ms/step - loss: 870.6229 - val_loss: 384.0352\n",
            "Epoch 31/50\n",
            "201/201 [==============================] - 1s 3ms/step - loss: 809.7388 - val_loss: 475.2274\n",
            "Epoch 32/50\n",
            "201/201 [==============================] - 1s 3ms/step - loss: 753.4974 - val_loss: 961.2463\n",
            "Epoch 33/50\n",
            "201/201 [==============================] - 0s 2ms/step - loss: 901.2548 - val_loss: 558.2026\n",
            "Epoch 34/50\n",
            "201/201 [==============================] - 1s 3ms/step - loss: 781.3071 - val_loss: 363.9792\n",
            "Epoch 35/50\n",
            "201/201 [==============================] - 0s 2ms/step - loss: 783.3127 - val_loss: 410.9065\n",
            "Epoch 36/50\n",
            "201/201 [==============================] - 0s 2ms/step - loss: 747.4776 - val_loss: 472.2657\n",
            "Epoch 37/50\n",
            "201/201 [==============================] - 0s 2ms/step - loss: 903.8315 - val_loss: 359.9635\n",
            "Epoch 38/50\n",
            "201/201 [==============================] - 0s 2ms/step - loss: 788.7380 - val_loss: 1733.3464\n",
            "Epoch 39/50\n",
            "201/201 [==============================] - 1s 3ms/step - loss: 857.0699 - val_loss: 935.4857\n",
            "Epoch 40/50\n",
            "201/201 [==============================] - 1s 2ms/step - loss: 779.7494 - val_loss: 350.1510\n",
            "Epoch 41/50\n",
            "201/201 [==============================] - 0s 2ms/step - loss: 831.5772 - val_loss: 396.7044\n",
            "Epoch 42/50\n",
            "201/201 [==============================] - 0s 2ms/step - loss: 863.2813 - val_loss: 459.3392\n",
            "Epoch 43/50\n",
            "201/201 [==============================] - 1s 3ms/step - loss: 860.3796 - val_loss: 377.1133\n",
            "Epoch 44/50\n",
            "201/201 [==============================] - 0s 2ms/step - loss: 783.6408 - val_loss: 429.6543\n",
            "Epoch 45/50\n",
            "201/201 [==============================] - 1s 2ms/step - loss: 804.2952 - val_loss: 376.4237\n",
            "Epoch 46/50\n",
            "201/201 [==============================] - 0s 2ms/step - loss: 761.2190 - val_loss: 404.8361\n",
            "Epoch 47/50\n",
            "201/201 [==============================] - 0s 2ms/step - loss: 756.9876 - val_loss: 363.4655\n",
            "Epoch 48/50\n",
            "201/201 [==============================] - 1s 3ms/step - loss: 876.6190 - val_loss: 351.4167\n",
            "Epoch 49/50\n",
            "201/201 [==============================] - 1s 3ms/step - loss: 794.5083 - val_loss: 357.3230\n",
            "Epoch 50/50\n",
            "201/201 [==============================] - 0s 2ms/step - loss: 772.8840 - val_loss: 370.2380\n"
          ]
        },
        {
          "output_type": "execute_result",
          "data": {
            "text/plain": [
              "<keras.callbacks.History at 0x7f14708b0df0>"
            ]
          },
          "metadata": {},
          "execution_count": 326
        }
      ],
      "source": [
        "model.fit(X_train, y_train, epochs=50, batch_size=32, validation_split=0.1)\n"
      ]
    },
    {
      "cell_type": "code",
      "source": [
        "y_pred=model.predict(X_test)"
      ],
      "metadata": {
        "colab": {
          "base_uri": "https://localhost:8080/"
        },
        "id": "iEV2pPR1bh23",
        "outputId": "36b91a21-8772-4bb9-bce9-3a268a25cd06"
      },
      "execution_count": 327,
      "outputs": [
        {
          "output_type": "stream",
          "name": "stdout",
          "text": [
            "56/56 [==============================] - 0s 1ms/step\n"
          ]
        }
      ]
    },
    {
      "cell_type": "code",
      "source": [
        "Y_PRED_OVERFIT=model.predict(X_TEST_OVERFIT)"
      ],
      "metadata": {
        "colab": {
          "base_uri": "https://localhost:8080/"
        },
        "id": "5rwQAvFglNEv",
        "outputId": "a434dffa-4d54-4963-96e0-378148032d94"
      },
      "execution_count": 328,
      "outputs": [
        {
          "output_type": "stream",
          "name": "stdout",
          "text": [
            "279/279 [==============================] - 0s 1ms/step\n"
          ]
        }
      ]
    },
    {
      "cell_type": "code",
      "source": [
        "import matplotlib.pyplot as plt\n",
        "plt.plot(Y_PRED_OVERFIT, color='r',label='predicted values')\n",
        "plt.plot(Y_TEST_OVERFIT, color='g',label='real values')\n",
        "plt.xlabel('Number of the prediction')\n",
        "plt.ylabel('MOER')\n",
        "plt.legend()\n",
        "plt.title('Predictions one step ahead')\n",
        "plt.xlim(100,300)"
      ],
      "metadata": {
        "colab": {
          "base_uri": "https://localhost:8080/",
          "height": 490
        },
        "id": "UMJ_dW6YlSQg",
        "outputId": "d5a3154d-e282-49c4-aff3-9816f7e05d34"
      },
      "execution_count": 329,
      "outputs": [
        {
          "output_type": "execute_result",
          "data": {
            "text/plain": [
              "(100.0, 300.0)"
            ]
          },
          "metadata": {},
          "execution_count": 329
        },
        {
          "output_type": "display_data",
          "data": {
            "text/plain": [
              "<Figure size 640x480 with 1 Axes>"
            ],
            "image/png": "[encoded data removed]"
          },
          "metadata": {}
        }
      ]
    },
    {
      "cell_type": "code",
      "execution_count": 330,
      "metadata": {
        "colab": {
          "base_uri": "https://localhost:8080/",
          "height": 448
        },
        "id": "KpNZRi9ba6NS",
        "outputId": "85ae3a2d-c65d-4064-dbb6-db66ca9baead"
      },
      "outputs": [
        {
          "output_type": "execute_result",
          "data": {
            "text/plain": [
              "(0.0, 200.0)"
            ]
          },
          "metadata": {},
          "execution_count": 330
        },
        {
          "output_type": "display_data",
          "data": {
            "text/plain": [
              "<Figure size 640x480 with 1 Axes>"
            ],
            "image/png": "[encoded data removed]"
          },
          "metadata": {}
        }
      ],
      "source": [
        "import matplotlib.pyplot as plt\n",
        "plt.plot(y_test, color='r')\n",
        "plt.plot(y_pred, color='g')\n",
        "plt.xlim(0,200)"
      ]
    },
    {
      "cell_type": "code",
      "source": [
        "### PREDICTIONS OF 24 STEPS AHEAD\n",
        "X_test_long=X_test[100]\n",
        "\n",
        "y_pred_long = model.predict(X_test_long.reshape(1, -1))[0]\n",
        "\n",
        "predictions = [y_pred_long]\n",
        "\n",
        "\n",
        "for i in range(1,24):\n",
        "    \n",
        "    X_test_long= np.roll(X_test_long, -1)\n",
        "    X_test_long[-1] = y_pred_long\n",
        "    \n",
        "    \n",
        "    y_pred_long = model.predict(X_test_long.reshape(1, -1))[0]\n",
        "    \n",
        "    \n",
        "    predictions.append(y_pred_long)\n"
      ],
      "metadata": {
        "colab": {
          "base_uri": "https://localhost:8080/"
        },
        "id": "nf1RZ6nGzXZo",
        "outputId": "b76ea815-87a1-4f6d-ecba-4aad73695f9f"
      },
      "execution_count": 331,
      "outputs": [
        {
          "output_type": "stream",
          "name": "stdout",
          "text": [
            "1/1 [==============================] - 0s 23ms/step\n",
            "1/1 [==============================] - 0s 28ms/step\n",
            "1/1 [==============================] - 0s 21ms/step\n",
            "1/1 [==============================] - 0s 22ms/step\n",
            "1/1 [==============================] - 0s 24ms/step\n",
            "1/1 [==============================] - 0s 25ms/step\n",
            "1/1 [==============================] - 0s 30ms/step\n",
            "1/1 [==============================] - 0s 37ms/step\n",
            "1/1 [==============================] - 0s 23ms/step\n",
            "1/1 [==============================] - 0s 23ms/step\n",
            "1/1 [==============================] - 0s 30ms/step\n",
            "1/1 [==============================] - 0s 27ms/step\n",
            "1/1 [==============================] - 0s 31ms/step\n",
            "1/1 [==============================] - 0s 29ms/step\n",
            "1/1 [==============================] - 0s 29ms/step\n",
            "1/1 [==============================] - 0s 29ms/step\n",
            "1/1 [==============================] - 0s 26ms/step\n",
            "1/1 [==============================] - 0s 29ms/step\n",
            "1/1 [==============================] - 0s 32ms/step\n",
            "1/1 [==============================] - 0s 27ms/step\n",
            "1/1 [==============================] - 0s 19ms/step\n",
            "1/1 [==============================] - 0s 18ms/step\n",
            "1/1 [==============================] - 0s 21ms/step\n",
            "1/1 [==============================] - 0s 18ms/step\n"
          ]
        }
      ]
    },
    {
      "cell_type": "code",
      "source": [
        "predictions = np.array([x[0] for x in predictions])\n"
      ],
      "metadata": {
        "id": "Ayzyj9E_6kep"
      },
      "execution_count": 332,
      "outputs": []
    },
    {
      "cell_type": "code",
      "source": [
        "import matplotlib.pyplot as plt\n",
        "plt.plot(predictions, color='r',label='predicted values')\n",
        "plt.plot(y_test[100:124], color='g',label='real values')\n",
        "\n",
        "plt.ylabel('MOER')\n",
        "plt.legend()\n"
      ],
      "metadata": {
        "colab": {
          "base_uri": "https://localhost:8080/",
          "height": 453
        },
        "id": "tdrOBMLU6WjT",
        "outputId": "596ecd02-ec8c-4f96-c5d5-1e40b0754cbb"
      },
      "execution_count": 334,
      "outputs": [
        {
          "output_type": "execute_result",
          "data": {
            "text/plain": [
              "<matplotlib.legend.Legend at 0x7f1476060bb0>"
            ]
          },
          "metadata": {},
          "execution_count": 334
        },
        {
          "output_type": "display_data",
          "data": {
            "text/plain": [
              "<Figure size 640x480 with 1 Axes>"
            ],
            "image/png": "[encoded data removed]"
          },
          "metadata": {}
        }
      ]
    },
    {
      "cell_type": "code",
      "execution_count": null,
      "metadata": {
        "id": "xk4icqlUa6NT"
      },
      "outputs": [],
      "source": [
        "### lstm"
      ]
    },
    {
      "cell_type": "code",
      "execution_count": 348,
      "metadata": {
        "id": "ibDkvxaPa6NT"
      },
      "outputs": [],
      "source": [
        "def prepare_data(data, n_prev=24, n_future=24):\n",
        "    X, y = [], []\n",
        "    for i in range(n_prev, len(data)-n_future+1):\n",
        "        X.append(data.iloc[i-n_prev:i])\n",
        "        y.append(data.iloc[i:i+n_future])\n",
        "    return np.array(X), np.array(y)\n",
        "\n",
        "X,y = prepare_data(data_model)"
      ]
    },
    {
      "cell_type": "code",
      "execution_count": 374,
      "metadata": {
        "id": "OhApJyDla6NT"
      },
      "outputs": [],
      "source": [
        "import numpy as np\n",
        "import pandas as pd\n",
        "from keras.models import Sequential\n",
        "from keras.layers import LSTM, Dense, Flatten\n"
      ]
    },
    {
      "cell_type": "code",
      "execution_count": 349,
      "metadata": {
        "id": "ByYDMsITa6NU"
      },
      "outputs": [],
      "source": [
        "train_size = int(len(X) * 0.7)\n",
        "X_train, y_train = X[:train_size], y[:train_size]\n",
        "X_test, y_test = X[train_size:], y[train_size:]\n"
      ]
    },
    {
      "cell_type": "code",
      "execution_count": 350,
      "metadata": {
        "id": "U847XhFFa6NU"
      },
      "outputs": [],
      "source": [
        "X_train = np.reshape(X_train, (X_train.shape[0], X_train.shape[1], 1))\n",
        "X_test = np.reshape(X_test, (X_test.shape[0], X_test.shape[1], 1))\n"
      ]
    },
    {
      "cell_type": "code",
      "execution_count": 340,
      "metadata": {
        "colab": {
          "base_uri": "https://localhost:8080/"
        },
        "id": "BeJCPXfpa6NU",
        "outputId": "228b3d23-4aec-46c1-9d75-79ea674c2b1d"
      },
      "outputs": [
        {
          "output_type": "execute_result",
          "data": {
            "text/plain": [
              "(6246, 4, 1)"
            ]
          },
          "metadata": {},
          "execution_count": 340
        }
      ],
      "source": [
        "X_train.shape"
      ]
    },
    {
      "cell_type": "code",
      "execution_count": 377,
      "metadata": {
        "colab": {
          "base_uri": "https://localhost:8080/"
        },
        "id": "gVozDQWxa6NU",
        "outputId": "d7346204-7642-495f-aa2d-8d8c42da02e9"
      },
      "outputs": [
        {
          "output_type": "stream",
          "name": "stdout",
          "text": [
            "Model: \"sequential_32\"\n",
            "_________________________________________________________________\n",
            " Layer (type)                Output Shape              Param #   \n",
            "=================================================================\n",
            " lstm_18 (LSTM)              (None, 24, 64)            16896     \n",
            "                                                                 \n",
            " lstm_19 (LSTM)              (None, 24, 42)            17976     \n",
            "                                                                 \n",
            " lstm_20 (LSTM)              (None, 37)                11840     \n",
            "                                                                 \n",
            " dense_164 (Dense)           (None, 32)                1216      \n",
            "                                                                 \n",
            " dense_165 (Dense)           (None, 24)                792       \n",
            "                                                                 \n",
            "=================================================================\n",
            "Total params: 48,720\n",
            "Trainable params: 48,720\n",
            "Non-trainable params: 0\n",
            "_________________________________________________________________\n"
          ]
        }
      ],
      "source": [
        "model = Sequential()\n",
        "model.add(LSTM(64, input_shape=(X_train.shape[1], 1), return_sequences=True))\n",
        "model.add(LSTM(42, return_sequences=True))\n",
        "model.add(LSTM(37))\n",
        "model.add(Dense(32, activation='relu'))\n",
        "model.add(Dense(24))\n",
        "model.compile(loss='mse', optimizer='adam')\n",
        "model.summary()\n"
      ]
    },
    {
      "cell_type": "code",
      "execution_count": 378,
      "metadata": {
        "colab": {
          "base_uri": "https://localhost:8080/"
        },
        "id": "uB8SL-78a6NU",
        "outputId": "e7944225-eea7-480e-b48b-33514ed7df63"
      },
      "outputs": [
        {
          "output_type": "stream",
          "name": "stdout",
          "text": [
            "Epoch 1/25\n",
            "175/175 [==============================] - 13s 43ms/step - loss: 954819.8750 - val_loss: 900807.0000\n",
            "Epoch 2/25\n",
            "175/175 [==============================] - 7s 38ms/step - loss: 814234.8750 - val_loss: 699446.2500\n",
            "Epoch 3/25\n",
            "175/175 [==============================] - 6s 35ms/step - loss: 578206.0000 - val_loss: 445003.7188\n",
            "Epoch 4/25\n",
            "175/175 [==============================] - 6s 36ms/step - loss: 332930.3438 - val_loss: 223418.3594\n",
            "Epoch 5/25\n",
            "175/175 [==============================] - 6s 37ms/step - loss: 149627.9844 - val_loss: 84655.0703\n",
            "Epoch 6/25\n",
            "175/175 [==============================] - 6s 35ms/step - loss: 51315.9883 - val_loss: 24368.1016\n",
            "Epoch 7/25\n",
            "175/175 [==============================] - 7s 37ms/step - loss: 14934.7744 - val_loss: 7010.0327\n",
            "Epoch 8/25\n",
            "175/175 [==============================] - 6s 34ms/step - loss: 5871.8599 - val_loss: 3745.4426\n",
            "Epoch 9/25\n",
            "175/175 [==============================] - 7s 38ms/step - loss: 4329.3433 - val_loss: 3340.5161\n",
            "Epoch 10/25\n",
            "175/175 [==============================] - 6s 35ms/step - loss: 4126.4277 - val_loss: 3304.7788\n",
            "Epoch 11/25\n",
            "175/175 [==============================] - 7s 38ms/step - loss: 4100.2456 - val_loss: 3302.9041\n",
            "Epoch 12/25\n",
            "175/175 [==============================] - 6s 35ms/step - loss: 4096.4414 - val_loss: 3302.1855\n",
            "Epoch 13/25\n",
            "175/175 [==============================] - 7s 38ms/step - loss: 4095.9463 - val_loss: 3301.7273\n",
            "Epoch 14/25\n",
            "175/175 [==============================] - 7s 37ms/step - loss: 4095.4863 - val_loss: 3302.6584\n",
            "Epoch 15/25\n",
            "175/175 [==============================] - 7s 37ms/step - loss: 4095.8413 - val_loss: 3303.8188\n",
            "Epoch 16/25\n",
            "175/175 [==============================] - 6s 35ms/step - loss: 4095.9253 - val_loss: 3304.7173\n",
            "Epoch 17/25\n",
            "175/175 [==============================] - 7s 38ms/step - loss: 4095.7598 - val_loss: 3302.1870\n",
            "Epoch 18/25\n",
            "175/175 [==============================] - 6s 36ms/step - loss: 4096.1162 - val_loss: 3301.8474\n",
            "Epoch 19/25\n",
            "175/175 [==============================] - 6s 37ms/step - loss: 4095.8108 - val_loss: 3301.5950\n",
            "Epoch 20/25\n",
            "175/175 [==============================] - 6s 37ms/step - loss: 4095.7051 - val_loss: 3302.2649\n",
            "Epoch 21/25\n",
            "175/175 [==============================] - 7s 39ms/step - loss: 4096.3091 - val_loss: 3305.2358\n",
            "Epoch 22/25\n",
            "175/175 [==============================] - 7s 38ms/step - loss: 4096.8867 - val_loss: 3300.4551\n",
            "Epoch 23/25\n",
            "175/175 [==============================] - 6s 35ms/step - loss: 4096.5166 - val_loss: 3299.5125\n",
            "Epoch 24/25\n",
            "175/175 [==============================] - 7s 38ms/step - loss: 4096.5356 - val_loss: 3308.0857\n",
            "Epoch 25/25\n",
            "175/175 [==============================] - 6s 35ms/step - loss: 4096.6626 - val_loss: 3310.9514\n"
          ]
        },
        {
          "output_type": "execute_result",
          "data": {
            "text/plain": [
              "<keras.callbacks.History at 0x7f14760bc7f0>"
            ]
          },
          "metadata": {},
          "execution_count": 378
        }
      ],
      "source": [
        "model.fit(X_train, y_train, epochs=25, batch_size=32, validation_split=0.1)\n"
      ]
    },
    {
      "cell_type": "code",
      "source": [
        "y_pred=model.predict(X_test)"
      ],
      "metadata": {
        "colab": {
          "base_uri": "https://localhost:8080/"
        },
        "id": "fwBZwq0-dPGi",
        "outputId": "fe21ce0a-5bc3-40de-8918-5d67210e0fcf"
      },
      "execution_count": 379,
      "outputs": [
        {
          "output_type": "stream",
          "name": "stdout",
          "text": [
            "84/84 [==============================] - 2s 11ms/step\n"
          ]
        }
      ]
    },
    {
      "cell_type": "code",
      "source": [
        "y_pred"
      ],
      "metadata": {
        "colab": {
          "base_uri": "https://localhost:8080/"
        },
        "id": "QlERbhVZGm3B",
        "outputId": "9d3c1c3c-b685-44f4-d115-6834d9e1686a"
      },
      "execution_count": 360,
      "outputs": [
        {
          "output_type": "execute_result",
          "data": {
            "text/plain": [
              "array([[989.5226 , 989.26855, 987.77   , ..., 994.4525 , 995.5172 ,\n",
              "        994.6223 ],\n",
              "       [989.5226 , 989.26855, 987.77   , ..., 994.4525 , 995.5172 ,\n",
              "        994.6223 ],\n",
              "       [989.5226 , 989.26855, 987.77   , ..., 994.4525 , 995.5172 ,\n",
              "        994.6223 ],\n",
              "       ...,\n",
              "       [989.52264, 989.2686 , 987.7701 , ..., 994.4525 , 995.5172 ,\n",
              "        994.6223 ],\n",
              "       [989.52264, 989.2686 , 987.7701 , ..., 994.4525 , 995.5172 ,\n",
              "        994.6223 ],\n",
              "       [989.52264, 989.2686 , 987.7701 , ..., 994.4525 , 995.5172 ,\n",
              "        994.6223 ]], dtype=float32)"
            ]
          },
          "metadata": {},
          "execution_count": 360
        }
      ]
    },
    {
      "cell_type": "code",
      "source": [
        "import matplotlib.pyplot as plt\n",
        "plt.plot(y_test[0], color='r')\n",
        "plt.plot(y_pred[0], color='g')\n",
        "plt.show()"
      ],
      "metadata": {
        "colab": {
          "base_uri": "https://localhost:8080/",
          "height": 434
        },
        "id": "b51-4UuzdUL9",
        "outputId": "d9e7897c-7d0d-478b-ad4a-25fd3d20f86b"
      },
      "execution_count": 361,
      "outputs": [
        {
          "output_type": "display_data",
          "data": {
            "text/plain": [
              "<Figure size 640x480 with 1 Axes>"
            ],
            "image/png": "[encoded data removed]"
          },
          "metadata": {}
        }
      ]
    }
  ],
  "metadata": {
    "kernelspec": {
      "display_name": "capstone",
      "language": "python",
      "name": "python3"
    },
    "language_info": {
      "codemirror_mode": {
        "name": "ipython",
        "version": 3
      },
      "file_extension": ".py",
      "mimetype": "text/x-python",
      "name": "python",
      "nbconvert_exporter": "python",
      "pygments_lexer": "ipython3",
      "version": "3.9.13"
    },
    "orig_nbformat": 4,
    "vscode": {
      "interpreter": {
        "hash": "311dab91b26c902b175b4a1201b200d1b1d70702d41fbb7a76ff5dcfa763cfdf"
      }
    },
    "colab": {
      "provenance": []
    }
  },
  "nbformat": 4,
  "nbformat_minor": 0
}