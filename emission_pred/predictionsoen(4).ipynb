{
  "cells": [
    {
      "cell_type": "code",
      "execution_count": null,
      "metadata": {
        "id": "nWDZ328Wa6NN"
      },
      "outputs": [],
      "source": [
        "import pandas as pd\n",
        "import numpy as np\n",
        "\n",
        "from keras.models import Sequential\n",
        "from keras.layers import Dense\n"
      ]
    },
    {
      "cell_type": "code",
      "execution_count": null,
      "metadata": {
        "id": "QMqFW6o4a6NO"
      },
      "outputs": [],
      "source": [
        "data=pd.read_csv('CAISO_NORTH_2022-02_MOER - CAISO_NORTH_2022-02_MOER.csv.csv')"
      ]
    },
    {
      "cell_type": "code",
      "execution_count": null,
      "metadata": {
        "colab": {
          "base_uri": "https://localhost:8080/",
          "height": 424
        },
        "id": "n136eDoDmv6W",
        "outputId": "370a0813-4534-4dd5-b9a8-fb84b5c0ac28"
      },
      "outputs": [
        {
          "output_type": "execute_result",
          "data": {
            "text/plain": [
              "                      timestamp  MOER  MOER version  frequency\n",
              "0     2022-02-01T00:00:00+00:00   975             3        300\n",
              "1     2022-02-01T00:05:00+00:00   967             3        300\n",
              "2     2022-02-01T00:10:00+00:00   960             3        300\n",
              "3     2022-02-01T00:15:00+00:00   966             3        300\n",
              "4     2022-02-01T00:20:00+00:00   966             3        300\n",
              "...                         ...   ...           ...        ...\n",
              "8059  2022-02-28T23:35:00+00:00   408             3        300\n",
              "8060  2022-02-28T23:40:00+00:00   204             3        300\n",
              "8061  2022-02-28T23:45:00+00:00   202             3        300\n",
              "8062  2022-02-28T23:50:00+00:00   306             3        300\n",
              "8063  2022-02-28T23:55:00+00:00   245             3        300\n",
              "\n",
              "[8064 rows x 4 columns]"
            ],
            "text/html": [
              "\n",
              "  <div id=\"df-5c7500f9-9019-4d54-9a10-be6fe4e177e1\">\n",
              "    <div class=\"colab-df-container\">\n",
              "      <div>\n",
              "<style scoped>\n",
              "    .dataframe tbody tr th:only-of-type {\n",
              "        vertical-align: middle;\n",
              "    }\n",
              "\n",
              "    .dataframe tbody tr th {\n",
              "        vertical-align: top;\n",
              "    }\n",
              "\n",
              "    .dataframe thead th {\n",
              "        text-align: right;\n",
              "    }\n",
              "</style>\n",
              "<table border=\"1\" class=\"dataframe\">\n",
              "  <thead>\n",
              "    <tr style=\"text-align: right;\">\n",
              "      <th></th>\n",
              "      <th>timestamp</th>\n",
              "      <th>MOER</th>\n",
              "      <th>MOER version</th>\n",
              "      <th>frequency</th>\n",
              "    </tr>\n",
              "  </thead>\n",
              "  <tbody>\n",
              "    <tr>\n",
              "      <th>0</th>\n",
              "      <td>2022-02-01T00:00:00+00:00</td>\n",
              "      <td>975</td>\n",
              "      <td>3</td>\n",
              "      <td>300</td>\n",
              "    </tr>\n",
              "    <tr>\n",
              "      <th>1</th>\n",
              "      <td>2022-02-01T00:05:00+00:00</td>\n",
              "      <td>967</td>\n",
              "      <td>3</td>\n",
              "      <td>300</td>\n",
              "    </tr>\n",
              "    <tr>\n",
              "      <th>2</th>\n",
              "      <td>2022-02-01T00:10:00+00:00</td>\n",
              "      <td>960</td>\n",
              "      <td>3</td>\n",
              "      <td>300</td>\n",
              "    </tr>\n",
              "    <tr>\n",
              "      <th>3</th>\n",
              "      <td>2022-02-01T00:15:00+00:00</td>\n",
              "      <td>966</td>\n",
              "      <td>3</td>\n",
              "      <td>300</td>\n",
              "    </tr>\n",
              "    <tr>\n",
              "      <th>4</th>\n",
              "      <td>2022-02-01T00:20:00+00:00</td>\n",
              "      <td>966</td>\n",
              "      <td>3</td>\n",
              "      <td>300</td>\n",
              "    </tr>\n",
              "    <tr>\n",
              "      <th>...</th>\n",
              "      <td>...</td>\n",
              "      <td>...</td>\n",
              "      <td>...</td>\n",
              "      <td>...</td>\n",
              "    </tr>\n",
              "    <tr>\n",
              "      <th>8059</th>\n",
              "      <td>2022-02-28T23:35:00+00:00</td>\n",
              "      <td>408</td>\n",
              "      <td>3</td>\n",
              "      <td>300</td>\n",
              "    </tr>\n",
              "    <tr>\n",
              "      <th>8060</th>\n",
              "      <td>2022-02-28T23:40:00+00:00</td>\n",
              "      <td>204</td>\n",
              "      <td>3</td>\n",
              "      <td>300</td>\n",
              "    </tr>\n",
              "    <tr>\n",
              "      <th>8061</th>\n",
              "      <td>2022-02-28T23:45:00+00:00</td>\n",
              "      <td>202</td>\n",
              "      <td>3</td>\n",
              "      <td>300</td>\n",
              "    </tr>\n",
              "    <tr>\n",
              "      <th>8062</th>\n",
              "      <td>2022-02-28T23:50:00+00:00</td>\n",
              "      <td>306</td>\n",
              "      <td>3</td>\n",
              "      <td>300</td>\n",
              "    </tr>\n",
              "    <tr>\n",
              "      <th>8063</th>\n",
              "      <td>2022-02-28T23:55:00+00:00</td>\n",
              "      <td>245</td>\n",
              "      <td>3</td>\n",
              "      <td>300</td>\n",
              "    </tr>\n",
              "  </tbody>\n",
              "</table>\n",
              "<p>8064 rows × 4 columns</p>\n",
              "</div>\n",
              "      <button class=\"colab-df-convert\" onclick=\"convertToInteractive('df-5c7500f9-9019-4d54-9a10-be6fe4e177e1')\"\n",
              "              title=\"Convert this dataframe to an interactive table.\"\n",
              "              style=\"display:none;\">\n",
              "        \n",
              "  <svg xmlns=\"http://www.w3.org/2000/svg\" height=\"24px\"viewBox=\"0 0 24 24\"\n",
              "       width=\"24px\">\n",
              "    <path d=\"M0 0h24v24H0V0z\" fill=\"none\"/>\n",
              "    <path d=\"M18.56 5.44l.94 2.06.94-2.06 2.06-.94-2.06-.94-.94-2.06-.94 2.06-2.06.94zm-11 1L8.5 8.5l.94-2.06 2.06-.94-2.06-.94L8.5 2.5l-.94 2.06-2.06.94zm10 10l.94 2.06.94-2.06 2.06-.94-2.06-.94-.94-2.06-.94 2.06-2.06.94z\"/><path d=\"M17.41 7.96l-1.37-1.37c-.4-.4-.92-.59-1.43-.59-.52 0-1.04.2-1.43.59L10.3 9.45l-7.72 7.72c-.78.78-.78 2.05 0 2.83L4 21.41c.39.39.9.59 1.41.59.51 0 1.02-.2 1.41-.59l7.78-7.78 2.81-2.81c.8-.78.8-2.07 0-2.86zM5.41 20L4 18.59l7.72-7.72 1.47 1.35L5.41 20z\"/>\n",
              "  </svg>\n",
              "      </button>\n",
              "      \n",
              "  <style>\n",
              "    .colab-df-container {\n",
              "      display:flex;\n",
              "      flex-wrap:wrap;\n",
              "      gap: 12px;\n",
              "    }\n",
              "\n",
              "    .colab-df-convert {\n",
              "      background-color: #E8F0FE;\n",
              "      border: none;\n",
              "      border-radius: 50%;\n",
              "      cursor: pointer;\n",
              "      display: none;\n",
              "      fill: #1967D2;\n",
              "      height: 32px;\n",
              "      padding: 0 0 0 0;\n",
              "      width: 32px;\n",
              "    }\n",
              "\n",
              "    .colab-df-convert:hover {\n",
              "      background-color: #E2EBFA;\n",
              "      box-shadow: 0px 1px 2px rgba(60, 64, 67, 0.3), 0px 1px 3px 1px rgba(60, 64, 67, 0.15);\n",
              "      fill: #174EA6;\n",
              "    }\n",
              "\n",
              "    [theme=dark] .colab-df-convert {\n",
              "      background-color: #3B4455;\n",
              "      fill: #D2E3FC;\n",
              "    }\n",
              "\n",
              "    [theme=dark] .colab-df-convert:hover {\n",
              "      background-color: #434B5C;\n",
              "      box-shadow: 0px 1px 3px 1px rgba(0, 0, 0, 0.15);\n",
              "      filter: drop-shadow(0px 1px 2px rgba(0, 0, 0, 0.3));\n",
              "      fill: #FFFFFF;\n",
              "    }\n",
              "  </style>\n",
              "\n",
              "      <script>\n",
              "        const buttonEl =\n",
              "          document.querySelector('#df-5c7500f9-9019-4d54-9a10-be6fe4e177e1 button.colab-df-convert');\n",
              "        buttonEl.style.display =\n",
              "          google.colab.kernel.accessAllowed ? 'block' : 'none';\n",
              "\n",
              "        async function convertToInteractive(key) {\n",
              "          const element = document.querySelector('#df-5c7500f9-9019-4d54-9a10-be6fe4e177e1');\n",
              "          const dataTable =\n",
              "            await google.colab.kernel.invokeFunction('convertToInteractive',\n",
              "                                                     [key], {});\n",
              "          if (!dataTable) return;\n",
              "\n",
              "          const docLinkHtml = 'Like what you see? Visit the ' +\n",
              "            '<a target=\"_blank\" href=https://colab.research.google.com/notebooks/data_table.ipynb>data table notebook</a>'\n",
              "            + ' to learn more about interactive tables.';\n",
              "          element.innerHTML = '';\n",
              "          dataTable['output_type'] = 'display_data';\n",
              "          await google.colab.output.renderOutput(dataTable, element);\n",
              "          const docLink = document.createElement('div');\n",
              "          docLink.innerHTML = docLinkHtml;\n",
              "          element.appendChild(docLink);\n",
              "        }\n",
              "      </script>\n",
              "    </div>\n",
              "  </div>\n",
              "  "
            ]
          },
          "metadata": {},
          "execution_count": 100
        }
      ],
      "source": [
        "data"
      ]
    },
    {
      "cell_type": "code",
      "execution_count": null,
      "metadata": {
        "id": "b3HhrTa33dcj"
      },
      "outputs": [],
      "source": [
        "#median_MOER = data['MOER'].median()\n",
        "#data['MOER'] = np.where(data['MOER'] < 750, median_MOER, data['MOER'])"
      ]
    },
    {
      "cell_type": "code",
      "execution_count": null,
      "metadata": {
        "id": "fp7B_EnykU50"
      },
      "outputs": [],
      "source": [
        "#data1=pd.read_csv('data1.csv')\n",
        "#median_MOER1 = data1['MOER'].median()\n",
        "#data1['MOER'] = np.where(data1['MOER'] < 750, median_MOER1, data1['MOER'])"
      ]
    },
    {
      "cell_type": "code",
      "execution_count": null,
      "metadata": {
        "colab": {
          "base_uri": "https://localhost:8080/"
        },
        "id": "Kvjpjupja6NO",
        "outputId": "b5944f81-5d17-4969-d69d-f8145f2a81bc"
      },
      "outputs": [
        {
          "output_type": "execute_result",
          "data": {
            "text/plain": [
              "0       975\n",
              "1       967\n",
              "2       960\n",
              "3       966\n",
              "4       966\n",
              "       ... \n",
              "8059    408\n",
              "8060    204\n",
              "8061    202\n",
              "8062    306\n",
              "8063    245\n",
              "Name: MOER, Length: 8064, dtype: int64"
            ]
          },
          "metadata": {},
          "execution_count": 101
        }
      ],
      "source": [
        "data['MOER']"
      ]
    },
    {
      "cell_type": "code",
      "source": [
        "24*12*24"
      ],
      "metadata": {
        "colab": {
          "base_uri": "https://localhost:8080/"
        },
        "id": "5r_7NcIr_4Y6",
        "outputId": "4dcf08a8-a8af-43db-d4a5-7c0c5d01c3fc"
      },
      "execution_count": null,
      "outputs": [
        {
          "output_type": "execute_result",
          "data": {
            "text/plain": [
              "6912"
            ]
          },
          "metadata": {},
          "execution_count": 105
        }
      ]
    },
    {
      "cell_type": "code",
      "source": [
        "data.iloc[6912+9*12-3:7030]"
      ],
      "metadata": {
        "colab": {
          "base_uri": "https://localhost:8080/",
          "height": 457
        },
        "id": "Am26S4XdPE6k",
        "outputId": "3ca190fb-7d64-45ea-feee-3d050415015b"
      },
      "execution_count": null,
      "outputs": [
        {
          "output_type": "execute_result",
          "data": {
            "text/plain": [
              "                      timestamp  MOER  MOER version  frequency\n",
              "7017  2022-02-25T08:45:00+00:00   995             3        300\n",
              "7018  2022-02-25T08:50:00+00:00   995             3        300\n",
              "7019  2022-02-25T08:55:00+00:00   995             3        300\n",
              "7020  2022-02-25T09:00:00+00:00   997             3        300\n",
              "7021  2022-02-25T09:05:00+00:00  1013             3        300\n",
              "7022  2022-02-25T09:10:00+00:00   966             3        300\n",
              "7023  2022-02-25T09:15:00+00:00   960             3        300\n",
              "7024  2022-02-25T09:20:00+00:00   952             3        300\n",
              "7025  2022-02-25T09:25:00+00:00   949             3        300\n",
              "7026  2022-02-25T09:30:00+00:00   946             3        300\n",
              "7027  2022-02-25T09:35:00+00:00   945             3        300\n",
              "7028  2022-02-25T09:40:00+00:00   943             3        300\n",
              "7029  2022-02-25T09:45:00+00:00   942             3        300"
            ],
            "text/html": [
              "\n",
              "  <div id=\"df-28cd7c67-ead0-4d77-b93b-59c8b9a7c50c\">\n",
              "    <div class=\"colab-df-container\">\n",
              "      <div>\n",
              "<style scoped>\n",
              "    .dataframe tbody tr th:only-of-type {\n",
              "        vertical-align: middle;\n",
              "    }\n",
              "\n",
              "    .dataframe tbody tr th {\n",
              "        vertical-align: top;\n",
              "    }\n",
              "\n",
              "    .dataframe thead th {\n",
              "        text-align: right;\n",
              "    }\n",
              "</style>\n",
              "<table border=\"1\" class=\"dataframe\">\n",
              "  <thead>\n",
              "    <tr style=\"text-align: right;\">\n",
              "      <th></th>\n",
              "      <th>timestamp</th>\n",
              "      <th>MOER</th>\n",
              "      <th>MOER version</th>\n",
              "      <th>frequency</th>\n",
              "    </tr>\n",
              "  </thead>\n",
              "  <tbody>\n",
              "    <tr>\n",
              "      <th>7017</th>\n",
              "      <td>2022-02-25T08:45:00+00:00</td>\n",
              "      <td>995</td>\n",
              "      <td>3</td>\n",
              "      <td>300</td>\n",
              "    </tr>\n",
              "    <tr>\n",
              "      <th>7018</th>\n",
              "      <td>2022-02-25T08:50:00+00:00</td>\n",
              "      <td>995</td>\n",
              "      <td>3</td>\n",
              "      <td>300</td>\n",
              "    </tr>\n",
              "    <tr>\n",
              "      <th>7019</th>\n",
              "      <td>2022-02-25T08:55:00+00:00</td>\n",
              "      <td>995</td>\n",
              "      <td>3</td>\n",
              "      <td>300</td>\n",
              "    </tr>\n",
              "    <tr>\n",
              "      <th>7020</th>\n",
              "      <td>2022-02-25T09:00:00+00:00</td>\n",
              "      <td>997</td>\n",
              "      <td>3</td>\n",
              "      <td>300</td>\n",
              "    </tr>\n",
              "    <tr>\n",
              "      <th>7021</th>\n",
              "      <td>2022-02-25T09:05:00+00:00</td>\n",
              "      <td>1013</td>\n",
              "      <td>3</td>\n",
              "      <td>300</td>\n",
              "    </tr>\n",
              "    <tr>\n",
              "      <th>7022</th>\n",
              "      <td>2022-02-25T09:10:00+00:00</td>\n",
              "      <td>966</td>\n",
              "      <td>3</td>\n",
              "      <td>300</td>\n",
              "    </tr>\n",
              "    <tr>\n",
              "      <th>7023</th>\n",
              "      <td>2022-02-25T09:15:00+00:00</td>\n",
              "      <td>960</td>\n",
              "      <td>3</td>\n",
              "      <td>300</td>\n",
              "    </tr>\n",
              "    <tr>\n",
              "      <th>7024</th>\n",
              "      <td>2022-02-25T09:20:00+00:00</td>\n",
              "      <td>952</td>\n",
              "      <td>3</td>\n",
              "      <td>300</td>\n",
              "    </tr>\n",
              "    <tr>\n",
              "      <th>7025</th>\n",
              "      <td>2022-02-25T09:25:00+00:00</td>\n",
              "      <td>949</td>\n",
              "      <td>3</td>\n",
              "      <td>300</td>\n",
              "    </tr>\n",
              "    <tr>\n",
              "      <th>7026</th>\n",
              "      <td>2022-02-25T09:30:00+00:00</td>\n",
              "      <td>946</td>\n",
              "      <td>3</td>\n",
              "      <td>300</td>\n",
              "    </tr>\n",
              "    <tr>\n",
              "      <th>7027</th>\n",
              "      <td>2022-02-25T09:35:00+00:00</td>\n",
              "      <td>945</td>\n",
              "      <td>3</td>\n",
              "      <td>300</td>\n",
              "    </tr>\n",
              "    <tr>\n",
              "      <th>7028</th>\n",
              "      <td>2022-02-25T09:40:00+00:00</td>\n",
              "      <td>943</td>\n",
              "      <td>3</td>\n",
              "      <td>300</td>\n",
              "    </tr>\n",
              "    <tr>\n",
              "      <th>7029</th>\n",
              "      <td>2022-02-25T09:45:00+00:00</td>\n",
              "      <td>942</td>\n",
              "      <td>3</td>\n",
              "      <td>300</td>\n",
              "    </tr>\n",
              "  </tbody>\n",
              "</table>\n",
              "</div>\n",
              "      <button class=\"colab-df-convert\" onclick=\"convertToInteractive('df-28cd7c67-ead0-4d77-b93b-59c8b9a7c50c')\"\n",
              "              title=\"Convert this dataframe to an interactive table.\"\n",
              "              style=\"display:none;\">\n",
              "        \n",
              "  <svg xmlns=\"http://www.w3.org/2000/svg\" height=\"24px\"viewBox=\"0 0 24 24\"\n",
              "       width=\"24px\">\n",
              "    <path d=\"M0 0h24v24H0V0z\" fill=\"none\"/>\n",
              "    <path d=\"M18.56 5.44l.94 2.06.94-2.06 2.06-.94-2.06-.94-.94-2.06-.94 2.06-2.06.94zm-11 1L8.5 8.5l.94-2.06 2.06-.94-2.06-.94L8.5 2.5l-.94 2.06-2.06.94zm10 10l.94 2.06.94-2.06 2.06-.94-2.06-.94-.94-2.06-.94 2.06-2.06.94z\"/><path d=\"M17.41 7.96l-1.37-1.37c-.4-.4-.92-.59-1.43-.59-.52 0-1.04.2-1.43.59L10.3 9.45l-7.72 7.72c-.78.78-.78 2.05 0 2.83L4 21.41c.39.39.9.59 1.41.59.51 0 1.02-.2 1.41-.59l7.78-7.78 2.81-2.81c.8-.78.8-2.07 0-2.86zM5.41 20L4 18.59l7.72-7.72 1.47 1.35L5.41 20z\"/>\n",
              "  </svg>\n",
              "      </button>\n",
              "      \n",
              "  <style>\n",
              "    .colab-df-container {\n",
              "      display:flex;\n",
              "      flex-wrap:wrap;\n",
              "      gap: 12px;\n",
              "    }\n",
              "\n",
              "    .colab-df-convert {\n",
              "      background-color: #E8F0FE;\n",
              "      border: none;\n",
              "      border-radius: 50%;\n",
              "      cursor: pointer;\n",
              "      display: none;\n",
              "      fill: #1967D2;\n",
              "      height: 32px;\n",
              "      padding: 0 0 0 0;\n",
              "      width: 32px;\n",
              "    }\n",
              "\n",
              "    .colab-df-convert:hover {\n",
              "      background-color: #E2EBFA;\n",
              "      box-shadow: 0px 1px 2px rgba(60, 64, 67, 0.3), 0px 1px 3px 1px rgba(60, 64, 67, 0.15);\n",
              "      fill: #174EA6;\n",
              "    }\n",
              "\n",
              "    [theme=dark] .colab-df-convert {\n",
              "      background-color: #3B4455;\n",
              "      fill: #D2E3FC;\n",
              "    }\n",
              "\n",
              "    [theme=dark] .colab-df-convert:hover {\n",
              "      background-color: #434B5C;\n",
              "      box-shadow: 0px 1px 3px 1px rgba(0, 0, 0, 0.15);\n",
              "      filter: drop-shadow(0px 1px 2px rgba(0, 0, 0, 0.3));\n",
              "      fill: #FFFFFF;\n",
              "    }\n",
              "  </style>\n",
              "\n",
              "      <script>\n",
              "        const buttonEl =\n",
              "          document.querySelector('#df-28cd7c67-ead0-4d77-b93b-59c8b9a7c50c button.colab-df-convert');\n",
              "        buttonEl.style.display =\n",
              "          google.colab.kernel.accessAllowed ? 'block' : 'none';\n",
              "\n",
              "        async function convertToInteractive(key) {\n",
              "          const element = document.querySelector('#df-28cd7c67-ead0-4d77-b93b-59c8b9a7c50c');\n",
              "          const dataTable =\n",
              "            await google.colab.kernel.invokeFunction('convertToInteractive',\n",
              "                                                     [key], {});\n",
              "          if (!dataTable) return;\n",
              "\n",
              "          const docLinkHtml = 'Like what you see? Visit the ' +\n",
              "            '<a target=\"_blank\" href=https://colab.research.google.com/notebooks/data_table.ipynb>data table notebook</a>'\n",
              "            + ' to learn more about interactive tables.';\n",
              "          element.innerHTML = '';\n",
              "          dataTable['output_type'] = 'display_data';\n",
              "          await google.colab.output.renderOutput(dataTable, element);\n",
              "          const docLink = document.createElement('div');\n",
              "          docLink.innerHTML = docLinkHtml;\n",
              "          element.appendChild(docLink);\n",
              "        }\n",
              "      </script>\n",
              "    </div>\n",
              "  </div>\n",
              "  "
            ]
          },
          "metadata": {},
          "execution_count": 128
        }
      ]
    },
    {
      "cell_type": "code",
      "execution_count": null,
      "metadata": {
        "id": "TFPqQi-7dyJk"
      },
      "outputs": [],
      "source": [
        "X_test = np.array([data['MOER'][5912+9*12:6912+9*12]])\n"
      ]
    },
    {
      "cell_type": "code",
      "source": [
        "y_test=np.array([data['MOER'][6912+9*12:6912+9*12+288]])"
      ],
      "metadata": {
        "id": "YwRmR_lnPyxF"
      },
      "execution_count": null,
      "outputs": []
    },
    {
      "cell_type": "code",
      "execution_count": null,
      "metadata": {
        "id": "zDSOFdUumz5i"
      },
      "outputs": [],
      "source": [
        "#data1"
      ]
    },
    {
      "cell_type": "code",
      "execution_count": null,
      "metadata": {
        "id": "s42un7nCkfts"
      },
      "outputs": [],
      "source": [
        "#data_test= data1['MOER']"
      ]
    },
    {
      "cell_type": "code",
      "execution_count": null,
      "metadata": {
        "id": "g4ExR47ia6NP"
      },
      "outputs": [],
      "source": [
        "data_model= data['MOER']"
      ]
    },
    {
      "cell_type": "code",
      "execution_count": null,
      "metadata": {
        "colab": {
          "base_uri": "https://localhost:8080/"
        },
        "id": "ZV0Q8-uYa6NP",
        "outputId": "4e7d8d50-ac29-40bb-c32b-3bcc809c9244"
      },
      "outputs": [
        {
          "output_type": "execute_result",
          "data": {
            "text/plain": [
              "0     41\n",
              "1     41\n",
              "2     41\n",
              "3     40\n",
              "4     39\n",
              "5     38\n",
              "6     38\n",
              "7     37\n",
              "8    651\n",
              "9    741\n",
              "Name: MOER, dtype: int64"
            ]
          },
          "metadata": {},
          "execution_count": 58
        }
      ],
      "source": [
        "data_model[:10]"
      ]
    },
    {
      "cell_type": "code",
      "execution_count": null,
      "metadata": {
        "id": "k2hTwkVoa6NQ"
      },
      "outputs": [],
      "source": [
        "def prepare_data(data, n_prev=1000):\n",
        "    X, y = [], []\n",
        "    values = data_model.values\n",
        "    for i in range(n_prev, len(data)-288):\n",
        "        X.append(values[i-n_prev:i].tolist())\n",
        "        y.append(values[i:i+288].tolist())\n",
        "    return np.array(X), np.array(y)\n",
        "\n"
      ]
    },
    {
      "cell_type": "code",
      "execution_count": null,
      "metadata": {
        "id": "-cXP1gowa6NR"
      },
      "outputs": [],
      "source": [
        "train_size = int(len(data) * 0.8)\n",
        "train_data = data_model.iloc[:train_size]\n",
        "test_data = data_model.iloc[train_size:]\n"
      ]
    },
    {
      "cell_type": "code",
      "execution_count": null,
      "metadata": {
        "id": "vEBPbv2va6NR"
      },
      "outputs": [],
      "source": [
        "X_train, y_train= prepare_data(train_data)\n",
        "X_test, y_test = prepare_data(test_data)\n"
      ]
    },
    {
      "cell_type": "code",
      "execution_count": null,
      "metadata": {
        "colab": {
          "base_uri": "https://localhost:8080/"
        },
        "id": "itFsubOBDIYd",
        "outputId": "6e389730-4c71-4a17-89e1-4030b8da4cca"
      },
      "outputs": [
        {
          "output_type": "execute_result",
          "data": {
            "text/plain": [
              "(5163, 1000)"
            ]
          },
          "metadata": {},
          "execution_count": 114
        }
      ],
      "source": [
        "X_train.shape"
      ]
    },
    {
      "cell_type": "code",
      "source": [
        "X_test"
      ],
      "metadata": {
        "colab": {
          "base_uri": "https://localhost:8080/"
        },
        "id": "sHh5gZxWI2vZ",
        "outputId": "82246c00-6e58-4c1c-95e0-a95b9a7d93af"
      },
      "execution_count": null,
      "outputs": [
        {
          "output_type": "execute_result",
          "data": {
            "text/plain": [
              "array([[ 41,  41,  41, ..., 861, 919, 926],\n",
              "       [ 41,  41,  40, ..., 919, 926, 930],\n",
              "       [ 41,  40,  39, ..., 926, 930, 932],\n",
              "       ...,\n",
              "       [841, 841, 842, ..., 872, 852, 845],\n",
              "       [841, 842, 833, ..., 852, 845, 965],\n",
              "       [842, 833, 839, ..., 845, 965, 979]])"
            ]
          },
          "metadata": {},
          "execution_count": 115
        }
      ]
    },
    {
      "cell_type": "code",
      "execution_count": null,
      "metadata": {
        "colab": {
          "base_uri": "https://localhost:8080/"
        },
        "id": "FDpuwjSADK-N",
        "outputId": "4c0e20aa-c6d2-4203-eac5-8aa62d281e7d"
      },
      "outputs": [
        {
          "output_type": "execute_result",
          "data": {
            "text/plain": [
              "array([[930, 932, 933, ..., 912, 928, 932],\n",
              "       [932, 933, 933, ..., 928, 932, 934],\n",
              "       [933, 933, 934, ..., 932, 934, 935],\n",
              "       ...,\n",
              "       [864, 865, 814, ..., 117, 862,  44],\n",
              "       [865, 814, 760, ..., 862,  44, 333],\n",
              "       [814, 760, 758, ...,  44, 333, 305]])"
            ]
          },
          "metadata": {},
          "execution_count": 14
        }
      ],
      "source": [
        "y_train"
      ]
    },
    {
      "cell_type": "code",
      "execution_count": null,
      "metadata": {
        "id": "ublwcU0jbviE",
        "colab": {
          "base_uri": "https://localhost:8080/",
          "height": 424
        },
        "outputId": "3ceeaab8-86d8-454d-c06a-88c9eba738d3"
      },
      "outputs": [
        {
          "output_type": "execute_result",
          "data": {
            "text/plain": [
              "                     timestamp  MOER  MOER version  frequency\n",
              "100  2022-05-01T08:20:00+00:00   858             3        300\n",
              "101  2022-05-01T08:25:00+00:00   863             3        300\n",
              "102  2022-05-01T08:30:00+00:00   861             3        300\n",
              "103  2022-05-01T08:35:00+00:00   861             3        300\n",
              "104  2022-05-01T08:40:00+00:00   860             3        300\n",
              "..                         ...   ...           ...        ...\n",
              "196  2022-05-01T16:20:00+00:00    35             3        300\n",
              "197  2022-05-01T16:25:00+00:00    35             3        300\n",
              "198  2022-05-01T16:30:00+00:00    35             3        300\n",
              "199  2022-05-01T16:35:00+00:00    35             3        300\n",
              "200  2022-05-01T16:40:00+00:00    35             3        300\n",
              "\n",
              "[101 rows x 4 columns]"
            ],
            "text/html": [
              "\n",
              "  <div id=\"df-31db6a17-bf5e-40ef-b205-43a4088b30d0\">\n",
              "    <div class=\"colab-df-container\">\n",
              "      <div>\n",
              "<style scoped>\n",
              "    .dataframe tbody tr th:only-of-type {\n",
              "        vertical-align: middle;\n",
              "    }\n",
              "\n",
              "    .dataframe tbody tr th {\n",
              "        vertical-align: top;\n",
              "    }\n",
              "\n",
              "    .dataframe thead th {\n",
              "        text-align: right;\n",
              "    }\n",
              "</style>\n",
              "<table border=\"1\" class=\"dataframe\">\n",
              "  <thead>\n",
              "    <tr style=\"text-align: right;\">\n",
              "      <th></th>\n",
              "      <th>timestamp</th>\n",
              "      <th>MOER</th>\n",
              "      <th>MOER version</th>\n",
              "      <th>frequency</th>\n",
              "    </tr>\n",
              "  </thead>\n",
              "  <tbody>\n",
              "    <tr>\n",
              "      <th>100</th>\n",
              "      <td>2022-05-01T08:20:00+00:00</td>\n",
              "      <td>858</td>\n",
              "      <td>3</td>\n",
              "      <td>300</td>\n",
              "    </tr>\n",
              "    <tr>\n",
              "      <th>101</th>\n",
              "      <td>2022-05-01T08:25:00+00:00</td>\n",
              "      <td>863</td>\n",
              "      <td>3</td>\n",
              "      <td>300</td>\n",
              "    </tr>\n",
              "    <tr>\n",
              "      <th>102</th>\n",
              "      <td>2022-05-01T08:30:00+00:00</td>\n",
              "      <td>861</td>\n",
              "      <td>3</td>\n",
              "      <td>300</td>\n",
              "    </tr>\n",
              "    <tr>\n",
              "      <th>103</th>\n",
              "      <td>2022-05-01T08:35:00+00:00</td>\n",
              "      <td>861</td>\n",
              "      <td>3</td>\n",
              "      <td>300</td>\n",
              "    </tr>\n",
              "    <tr>\n",
              "      <th>104</th>\n",
              "      <td>2022-05-01T08:40:00+00:00</td>\n",
              "      <td>860</td>\n",
              "      <td>3</td>\n",
              "      <td>300</td>\n",
              "    </tr>\n",
              "    <tr>\n",
              "      <th>...</th>\n",
              "      <td>...</td>\n",
              "      <td>...</td>\n",
              "      <td>...</td>\n",
              "      <td>...</td>\n",
              "    </tr>\n",
              "    <tr>\n",
              "      <th>196</th>\n",
              "      <td>2022-05-01T16:20:00+00:00</td>\n",
              "      <td>35</td>\n",
              "      <td>3</td>\n",
              "      <td>300</td>\n",
              "    </tr>\n",
              "    <tr>\n",
              "      <th>197</th>\n",
              "      <td>2022-05-01T16:25:00+00:00</td>\n",
              "      <td>35</td>\n",
              "      <td>3</td>\n",
              "      <td>300</td>\n",
              "    </tr>\n",
              "    <tr>\n",
              "      <th>198</th>\n",
              "      <td>2022-05-01T16:30:00+00:00</td>\n",
              "      <td>35</td>\n",
              "      <td>3</td>\n",
              "      <td>300</td>\n",
              "    </tr>\n",
              "    <tr>\n",
              "      <th>199</th>\n",
              "      <td>2022-05-01T16:35:00+00:00</td>\n",
              "      <td>35</td>\n",
              "      <td>3</td>\n",
              "      <td>300</td>\n",
              "    </tr>\n",
              "    <tr>\n",
              "      <th>200</th>\n",
              "      <td>2022-05-01T16:40:00+00:00</td>\n",
              "      <td>35</td>\n",
              "      <td>3</td>\n",
              "      <td>300</td>\n",
              "    </tr>\n",
              "  </tbody>\n",
              "</table>\n",
              "<p>101 rows × 4 columns</p>\n",
              "</div>\n",
              "      <button class=\"colab-df-convert\" onclick=\"convertToInteractive('df-31db6a17-bf5e-40ef-b205-43a4088b30d0')\"\n",
              "              title=\"Convert this dataframe to an interactive table.\"\n",
              "              style=\"display:none;\">\n",
              "        \n",
              "  <svg xmlns=\"http://www.w3.org/2000/svg\" height=\"24px\"viewBox=\"0 0 24 24\"\n",
              "       width=\"24px\">\n",
              "    <path d=\"M0 0h24v24H0V0z\" fill=\"none\"/>\n",
              "    <path d=\"M18.56 5.44l.94 2.06.94-2.06 2.06-.94-2.06-.94-.94-2.06-.94 2.06-2.06.94zm-11 1L8.5 8.5l.94-2.06 2.06-.94-2.06-.94L8.5 2.5l-.94 2.06-2.06.94zm10 10l.94 2.06.94-2.06 2.06-.94-2.06-.94-.94-2.06-.94 2.06-2.06.94z\"/><path d=\"M17.41 7.96l-1.37-1.37c-.4-.4-.92-.59-1.43-.59-.52 0-1.04.2-1.43.59L10.3 9.45l-7.72 7.72c-.78.78-.78 2.05 0 2.83L4 21.41c.39.39.9.59 1.41.59.51 0 1.02-.2 1.41-.59l7.78-7.78 2.81-2.81c.8-.78.8-2.07 0-2.86zM5.41 20L4 18.59l7.72-7.72 1.47 1.35L5.41 20z\"/>\n",
              "  </svg>\n",
              "      </button>\n",
              "      \n",
              "  <style>\n",
              "    .colab-df-container {\n",
              "      display:flex;\n",
              "      flex-wrap:wrap;\n",
              "      gap: 12px;\n",
              "    }\n",
              "\n",
              "    .colab-df-convert {\n",
              "      background-color: #E8F0FE;\n",
              "      border: none;\n",
              "      border-radius: 50%;\n",
              "      cursor: pointer;\n",
              "      display: none;\n",
              "      fill: #1967D2;\n",
              "      height: 32px;\n",
              "      padding: 0 0 0 0;\n",
              "      width: 32px;\n",
              "    }\n",
              "\n",
              "    .colab-df-convert:hover {\n",
              "      background-color: #E2EBFA;\n",
              "      box-shadow: 0px 1px 2px rgba(60, 64, 67, 0.3), 0px 1px 3px 1px rgba(60, 64, 67, 0.15);\n",
              "      fill: #174EA6;\n",
              "    }\n",
              "\n",
              "    [theme=dark] .colab-df-convert {\n",
              "      background-color: #3B4455;\n",
              "      fill: #D2E3FC;\n",
              "    }\n",
              "\n",
              "    [theme=dark] .colab-df-convert:hover {\n",
              "      background-color: #434B5C;\n",
              "      box-shadow: 0px 1px 3px 1px rgba(0, 0, 0, 0.15);\n",
              "      filter: drop-shadow(0px 1px 2px rgba(0, 0, 0, 0.3));\n",
              "      fill: #FFFFFF;\n",
              "    }\n",
              "  </style>\n",
              "\n",
              "      <script>\n",
              "        const buttonEl =\n",
              "          document.querySelector('#df-31db6a17-bf5e-40ef-b205-43a4088b30d0 button.colab-df-convert');\n",
              "        buttonEl.style.display =\n",
              "          google.colab.kernel.accessAllowed ? 'block' : 'none';\n",
              "\n",
              "        async function convertToInteractive(key) {\n",
              "          const element = document.querySelector('#df-31db6a17-bf5e-40ef-b205-43a4088b30d0');\n",
              "          const dataTable =\n",
              "            await google.colab.kernel.invokeFunction('convertToInteractive',\n",
              "                                                     [key], {});\n",
              "          if (!dataTable) return;\n",
              "\n",
              "          const docLinkHtml = 'Like what you see? Visit the ' +\n",
              "            '<a target=\"_blank\" href=https://colab.research.google.com/notebooks/data_table.ipynb>data table notebook</a>'\n",
              "            + ' to learn more about interactive tables.';\n",
              "          element.innerHTML = '';\n",
              "          dataTable['output_type'] = 'display_data';\n",
              "          await google.colab.output.renderOutput(dataTable, element);\n",
              "          const docLink = document.createElement('div');\n",
              "          docLink.innerHTML = docLinkHtml;\n",
              "          element.appendChild(docLink);\n",
              "        }\n",
              "      </script>\n",
              "    </div>\n",
              "  </div>\n",
              "  "
            ]
          },
          "metadata": {},
          "execution_count": 48
        }
      ],
      "source": [
        "data.loc[100:200]"
      ]
    },
    {
      "cell_type": "code",
      "execution_count": null,
      "metadata": {
        "id": "Dwrl2GYkkwLd"
      },
      "outputs": [],
      "source": [
        "#X_TEST_OVERFIT,Y_TEST_OVERFIT = prepare_data(data_test)\n"
      ]
    },
    {
      "cell_type": "code",
      "execution_count": null,
      "metadata": {
        "id": "HNHumh1Xa6NR"
      },
      "outputs": [],
      "source": [
        "model = Sequential()\n",
        "model.add(Dense(1000, activation='relu', input_dim=X_train.shape[1]))\n",
        "model.add(Dense(800, activation='relu'))\n",
        "model.add(Dense(700, activation='linear'))\n",
        "model.add(Dense(580, activation='relu'))\n",
        "model.add(Dense(520, activation='relu'))\n",
        "model.add(Dense(400, activation='relu'))\n",
        "model.add(Dense(350, activation='relu'))\n",
        "model.add(Dense(300, activation='relu'))\n",
        "model.add(Dense(288, activation='linear'))\n",
        "model.compile(loss='huber', optimizer='adam')\n"
      ]
    },
    {
      "cell_type": "code",
      "execution_count": null,
      "metadata": {
        "colab": {
          "base_uri": "https://localhost:8080/"
        },
        "id": "j_4LxXssZgfL",
        "outputId": "59244a2d-45dd-4157-e51f-45b40d7c3dee"
      },
      "outputs": [
        {
          "output_type": "execute_result",
          "data": {
            "text/plain": [
              "(5163, 288)"
            ]
          },
          "metadata": {},
          "execution_count": 16
        }
      ],
      "source": [
        "y_train.shape"
      ]
    },
    {
      "cell_type": "code",
      "execution_count": null,
      "metadata": {
        "colab": {
          "base_uri": "https://localhost:8080/"
        },
        "id": "8MwWSch1Zg-e",
        "outputId": "6296cf8b-fdda-4f4e-d0ed-cbc0c04bac0c"
      },
      "outputs": [
        {
          "output_type": "execute_result",
          "data": {
            "text/plain": [
              "array([[ 975,  967,  960, ..., 1095, 1084, 1075],\n",
              "       [ 967,  960,  966, ..., 1084, 1075, 1073],\n",
              "       [ 960,  966,  966, ..., 1075, 1073, 1069],\n",
              "       ...,\n",
              "       [ 988,  988,  988, ...,  981,  979, 1035],\n",
              "       [ 988,  988, 1003, ...,  979, 1035, 1038],\n",
              "       [ 988, 1003, 1007, ..., 1035, 1038, 1043]])"
            ]
          },
          "metadata": {},
          "execution_count": 17
        }
      ],
      "source": [
        "X_test"
      ]
    },
    {
      "cell_type": "code",
      "execution_count": null,
      "metadata": {
        "colab": {
          "base_uri": "https://localhost:8080/"
        },
        "id": "_BNc-suCa6NS",
        "outputId": "21eb0a1d-8419-40f5-e25d-26a6fad6e6a8"
      },
      "outputs": [
        {
          "output_type": "stream",
          "name": "stdout",
          "text": [
            "Epoch 1/50\n",
            "146/146 [==============================] - 13s 76ms/step - loss: 199.9315 - val_loss: 129.4747\n",
            "Epoch 2/50\n",
            "146/146 [==============================] - 10s 68ms/step - loss: 125.7609 - val_loss: 107.4102\n",
            "Epoch 3/50\n",
            "146/146 [==============================] - 10s 71ms/step - loss: 108.8842 - val_loss: 107.1562\n",
            "Epoch 4/50\n",
            "146/146 [==============================] - 11s 72ms/step - loss: 107.1545 - val_loss: 129.5890\n",
            "Epoch 5/50\n",
            "146/146 [==============================] - 11s 74ms/step - loss: 100.9075 - val_loss: 96.8177\n",
            "Epoch 6/50\n",
            "146/146 [==============================] - 11s 74ms/step - loss: 103.8854 - val_loss: 106.8759\n",
            "Epoch 7/50\n",
            "146/146 [==============================] - 10s 68ms/step - loss: 102.3086 - val_loss: 103.8132\n",
            "Epoch 8/50\n",
            "146/146 [==============================] - 10s 71ms/step - loss: 102.2304 - val_loss: 118.3360\n",
            "Epoch 9/50\n",
            "146/146 [==============================] - 11s 73ms/step - loss: 98.4087 - val_loss: 100.7105\n",
            "Epoch 10/50\n",
            "146/146 [==============================] - 11s 73ms/step - loss: 95.5603 - val_loss: 106.5413\n",
            "Epoch 11/50\n",
            "146/146 [==============================] - 11s 74ms/step - loss: 94.7093 - val_loss: 104.1507\n",
            "Epoch 12/50\n",
            "146/146 [==============================] - 13s 87ms/step - loss: 93.6190 - val_loss: 123.8399\n",
            "Epoch 13/50\n",
            "146/146 [==============================] - 10s 69ms/step - loss: 93.3914 - val_loss: 98.5192\n",
            "Epoch 14/50\n",
            "146/146 [==============================] - 10s 69ms/step - loss: 92.8111 - val_loss: 83.0458\n",
            "Epoch 15/50\n",
            "146/146 [==============================] - 11s 73ms/step - loss: 92.9907 - val_loss: 94.2460\n",
            "Epoch 16/50\n",
            "146/146 [==============================] - 11s 74ms/step - loss: 87.5332 - val_loss: 156.0684\n",
            "Epoch 17/50\n",
            "146/146 [==============================] - 11s 74ms/step - loss: 91.9448 - val_loss: 110.7920\n",
            "Epoch 18/50\n",
            "146/146 [==============================] - 10s 72ms/step - loss: 87.7924 - val_loss: 109.1878\n",
            "Epoch 19/50\n",
            "146/146 [==============================] - 10s 69ms/step - loss: 86.1867 - val_loss: 103.7961\n",
            "Epoch 20/50\n",
            "146/146 [==============================] - 11s 73ms/step - loss: 84.0604 - val_loss: 98.8849\n",
            "Epoch 21/50\n",
            "146/146 [==============================] - 11s 76ms/step - loss: 80.8000 - val_loss: 127.2406\n",
            "Epoch 22/50\n",
            "146/146 [==============================] - 11s 76ms/step - loss: 84.5237 - val_loss: 110.6902\n",
            "Epoch 23/50\n",
            "146/146 [==============================] - 11s 76ms/step - loss: 80.3165 - val_loss: 100.3443\n",
            "Epoch 24/50\n",
            "146/146 [==============================] - 10s 71ms/step - loss: 79.7232 - val_loss: 111.3077\n",
            "Epoch 25/50\n",
            "146/146 [==============================] - 11s 72ms/step - loss: 83.1075 - val_loss: 123.5850\n",
            "Epoch 26/50\n",
            "146/146 [==============================] - 11s 76ms/step - loss: 79.9503 - val_loss: 109.9812\n",
            "Epoch 27/50\n",
            "146/146 [==============================] - 11s 75ms/step - loss: 75.5216 - val_loss: 118.1493\n",
            "Epoch 28/50\n",
            "146/146 [==============================] - 11s 74ms/step - loss: 75.3270 - val_loss: 133.2458\n",
            "Epoch 29/50\n",
            "146/146 [==============================] - 10s 72ms/step - loss: 77.3280 - val_loss: 91.4671\n",
            "Epoch 30/50\n",
            "146/146 [==============================] - 10s 68ms/step - loss: 76.2454 - val_loss: 99.7762\n",
            "Epoch 31/50\n",
            "146/146 [==============================] - 11s 73ms/step - loss: 71.9461 - val_loss: 117.1287\n",
            "Epoch 32/50\n",
            "146/146 [==============================] - 11s 73ms/step - loss: 71.8535 - val_loss: 110.5035\n",
            "Epoch 33/50\n",
            "146/146 [==============================] - 11s 75ms/step - loss: 72.1928 - val_loss: 105.0518\n",
            "Epoch 34/50\n",
            "146/146 [==============================] - 11s 74ms/step - loss: 72.3689 - val_loss: 102.5524\n",
            "Epoch 35/50\n",
            "146/146 [==============================] - 10s 66ms/step - loss: 68.5548 - val_loss: 113.6573\n",
            "Epoch 36/50\n",
            "146/146 [==============================] - 11s 74ms/step - loss: 69.6799 - val_loss: 100.3883\n",
            "Epoch 37/50\n",
            "146/146 [==============================] - 11s 73ms/step - loss: 72.0796 - val_loss: 112.0118\n",
            "Epoch 38/50\n",
            "146/146 [==============================] - 11s 73ms/step - loss: 68.2253 - val_loss: 120.6148\n",
            "Epoch 39/50\n",
            "146/146 [==============================] - 11s 73ms/step - loss: 66.8814 - val_loss: 126.4851\n",
            "Epoch 40/50\n",
            "146/146 [==============================] - 10s 66ms/step - loss: 68.0244 - val_loss: 116.4700\n",
            "Epoch 41/50\n",
            "146/146 [==============================] - 11s 74ms/step - loss: 67.9377 - val_loss: 114.4692\n",
            "Epoch 42/50\n",
            "146/146 [==============================] - 11s 73ms/step - loss: 66.6670 - val_loss: 102.8461\n",
            "Epoch 43/50\n",
            "146/146 [==============================] - 11s 73ms/step - loss: 71.7733 - val_loss: 129.5347\n",
            "Epoch 44/50\n",
            "146/146 [==============================] - 10s 72ms/step - loss: 66.0687 - val_loss: 114.9642\n",
            "Epoch 45/50\n",
            "146/146 [==============================] - 10s 68ms/step - loss: 64.3009 - val_loss: 105.6070\n",
            "Epoch 46/50\n",
            "146/146 [==============================] - 11s 72ms/step - loss: 66.0709 - val_loss: 141.0609\n",
            "Epoch 47/50\n",
            "146/146 [==============================] - 11s 73ms/step - loss: 65.0918 - val_loss: 104.8665\n",
            "Epoch 48/50\n",
            "146/146 [==============================] - 11s 73ms/step - loss: 67.2438 - val_loss: 108.3436\n",
            "Epoch 49/50\n",
            "146/146 [==============================] - 11s 74ms/step - loss: 63.5999 - val_loss: 138.8908\n",
            "Epoch 50/50\n",
            "146/146 [==============================] - 10s 68ms/step - loss: 62.4139 - val_loss: 113.7081\n"
          ]
        },
        {
          "output_type": "execute_result",
          "data": {
            "text/plain": [
              "<keras.callbacks.History at 0x7f15badebd90>"
            ]
          },
          "metadata": {},
          "execution_count": 117
        }
      ],
      "source": [
        "model.fit(X_train, y_train, epochs=50, batch_size=32, validation_split=0.1)\n"
      ]
    },
    {
      "cell_type": "code",
      "execution_count": null,
      "metadata": {
        "colab": {
          "base_uri": "https://localhost:8080/"
        },
        "id": "iEV2pPR1bh23",
        "outputId": "aa91ab23-9472-4621-bbd6-cedff7a345a0"
      },
      "outputs": [
        {
          "output_type": "stream",
          "name": "stdout",
          "text": [
            "38/38 [==============================] - 1s 14ms/step\n"
          ]
        }
      ],
      "source": [
        "y_pred=model.predict(X_test)"
      ]
    },
    {
      "cell_type": "code",
      "execution_count": null,
      "metadata": {
        "colab": {
          "base_uri": "https://localhost:8080/",
          "height": 598
        },
        "id": "8akzqI6mfpNO",
        "outputId": "b968a4ba-7f0b-49f1-ba0c-85b19e7ae744"
      },
      "outputs": [
        {
          "output_type": "display_data",
          "data": {
            "text/plain": [
              "<Figure size 1000x600 with 1 Axes>"
            ],
            "image/png": "[encoded data removed]"
          },
          "metadata": {}
        }
      ],
      "source": [
        "import matplotlib.pyplot as plt\n",
        "fig, ax = plt.subplots(figsize=(10,6))\n",
        "\n",
        "ax.plot(y_test[0], label='True Values', color='black',linewidth=2)\n",
        "ax.plot(y_pred[0], label='Predicted Values', color='orange',linewidth=2)\n",
        "ax.legend()\n",
        "ax.set_xlabel('Time', fontsize=14)\n",
        "ax.set_ylabel('MOER', fontsize=14)\n",
        "\n",
        "ax.set_title('Forecasting for one day in Winter with a FFNN',fontweight='bold', fontsize=16)\n",
        "\n",
        "plt.grid()\n",
        "\n",
        "\n",
        "x_ticks = np.arange(0, 288+36, 36) \n",
        "x_labels = ['12 am', '3 am','6 am', '9 am','12 pm','3 pm','6 pm','9 pm','12 am']\n",
        "plt.xticks(x_ticks, x_labels, rotation=45)\n",
        "\n",
        "\n",
        "plt.show()\n"
      ]
    },
    {
      "cell_type": "code",
      "source": [
        "import numpy as np\n",
        "\n",
        "def huber_loss(y_true, y_pred, delta=1.0):\n",
        "    diff = np.abs(y_true - y_pred)\n",
        "    delta_mask = diff <= delta\n",
        "    squared_loss = 0.5 * np.square(diff)\n",
        "    linear_loss = delta * (diff - 0.5 * delta)\n",
        "    loss = np.where(delta_mask, squared_loss, linear_loss)\n",
        "    return np.mean(loss)\n",
        "\n",
        "\n",
        "delta = 1.0 \n",
        "huber_loss_value = huber_loss(y_test[0], y_pred[0], delta=delta)\n",
        "\n",
        "print(\"Huber Loss:\", huber_loss_value)\n"
      ],
      "metadata": {
        "colab": {
          "base_uri": "https://localhost:8080/"
        },
        "id": "_AiF6zwBuNPO",
        "outputId": "68fda811-bb30-47c6-ba10-d8489c53b207"
      },
      "execution_count": null,
      "outputs": [
        {
          "output_type": "stream",
          "name": "stdout",
          "text": [
            "Huber Loss: 320.59836852550507\n"
          ]
        }
      ]
    }
  ],
  "metadata": {
    "colab": {
      "provenance": []
    },
    "kernelspec": {
      "display_name": "capstone",
      "language": "python",
      "name": "python3"
    },
    "language_info": {
      "codemirror_mode": {
        "name": "ipython",
        "version": 3
      },
      "file_extension": ".py",
      "mimetype": "text/x-python",
      "name": "python",
      "nbconvert_exporter": "python",
      "pygments_lexer": "ipython3",
      "version": "3.9.13"
    },
    "vscode": {
      "interpreter": {
        "hash": "311dab91b26c902b175b4a1201b200d1b1d70702d41fbb7a76ff5dcfa763cfdf"
      }
    }
  },
  "nbformat": 4,
  "nbformat_minor": 0
}