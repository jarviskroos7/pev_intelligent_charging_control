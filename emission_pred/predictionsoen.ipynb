{
  "cells": [
    {
      "cell_type": "code",
      "execution_count": 1,
      "metadata": {
        "id": "nWDZ328Wa6NN"
      },
      "outputs": [],
      "source": [
        "import pandas as pd\n",
        "import numpy as np\n",
        "\n",
        "from keras.models import Sequential\n",
        "from keras.layers import Dense\n"
      ]
    },
    {
      "cell_type": "code",
      "execution_count": 2,
      "metadata": {
        "id": "QMqFW6o4a6NO"
      },
      "outputs": [],
      "source": [
        "data=pd.read_csv('data.csv')"
      ]
    },
    {
      "cell_type": "code",
      "source": [
        "data1=pd.read_csv('data1.csv')"
      ],
      "metadata": {
        "id": "fp7B_EnykU50"
      },
      "execution_count": 55,
      "outputs": []
    },
    {
      "cell_type": "code",
      "execution_count": null,
      "metadata": {
        "id": "Kvjpjupja6NO",
        "outputId": "3136dcc4-a350-4406-b96e-2d81822066e5"
      },
      "outputs": [
        {
          "data": {
            "text/html": [
              "<div>\n",
              "<style scoped>\n",
              "    .dataframe tbody tr th:only-of-type {\n",
              "        vertical-align: middle;\n",
              "    }\n",
              "\n",
              "    .dataframe tbody tr th {\n",
              "        vertical-align: top;\n",
              "    }\n",
              "\n",
              "    .dataframe thead th {\n",
              "        text-align: right;\n",
              "    }\n",
              "</style>\n",
              "<table border=\"1\" class=\"dataframe\">\n",
              "  <thead>\n",
              "    <tr style=\"text-align: right;\">\n",
              "      <th></th>\n",
              "      <th>timestamp</th>\n",
              "      <th>MOER</th>\n",
              "      <th>MOER version</th>\n",
              "      <th>frequency</th>\n",
              "    </tr>\n",
              "  </thead>\n",
              "  <tbody>\n",
              "    <tr>\n",
              "      <th>0</th>\n",
              "      <td>2021-12-01T00:00:00+00:00</td>\n",
              "      <td>950</td>\n",
              "      <td>3</td>\n",
              "      <td>300</td>\n",
              "    </tr>\n",
              "    <tr>\n",
              "      <th>1</th>\n",
              "      <td>2021-12-01T00:05:00+00:00</td>\n",
              "      <td>971</td>\n",
              "      <td>3</td>\n",
              "      <td>300</td>\n",
              "    </tr>\n",
              "    <tr>\n",
              "      <th>2</th>\n",
              "      <td>2021-12-01T00:10:00+00:00</td>\n",
              "      <td>964</td>\n",
              "      <td>3</td>\n",
              "      <td>300</td>\n",
              "    </tr>\n",
              "    <tr>\n",
              "      <th>3</th>\n",
              "      <td>2021-12-01T00:15:00+00:00</td>\n",
              "      <td>968</td>\n",
              "      <td>3</td>\n",
              "      <td>300</td>\n",
              "    </tr>\n",
              "    <tr>\n",
              "      <th>4</th>\n",
              "      <td>2021-12-01T00:20:00+00:00</td>\n",
              "      <td>966</td>\n",
              "      <td>3</td>\n",
              "      <td>300</td>\n",
              "    </tr>\n",
              "    <tr>\n",
              "      <th>...</th>\n",
              "      <td>...</td>\n",
              "      <td>...</td>\n",
              "      <td>...</td>\n",
              "      <td>...</td>\n",
              "    </tr>\n",
              "    <tr>\n",
              "      <th>8923</th>\n",
              "      <td>2021-12-31T23:35:00+00:00</td>\n",
              "      <td>1039</td>\n",
              "      <td>3</td>\n",
              "      <td>300</td>\n",
              "    </tr>\n",
              "    <tr>\n",
              "      <th>8924</th>\n",
              "      <td>2021-12-31T23:40:00+00:00</td>\n",
              "      <td>1072</td>\n",
              "      <td>3</td>\n",
              "      <td>300</td>\n",
              "    </tr>\n",
              "    <tr>\n",
              "      <th>8925</th>\n",
              "      <td>2021-12-31T23:45:00+00:00</td>\n",
              "      <td>1071</td>\n",
              "      <td>3</td>\n",
              "      <td>300</td>\n",
              "    </tr>\n",
              "    <tr>\n",
              "      <th>8926</th>\n",
              "      <td>2021-12-31T23:50:00+00:00</td>\n",
              "      <td>1080</td>\n",
              "      <td>3</td>\n",
              "      <td>300</td>\n",
              "    </tr>\n",
              "    <tr>\n",
              "      <th>8927</th>\n",
              "      <td>2021-12-31T23:55:00+00:00</td>\n",
              "      <td>1078</td>\n",
              "      <td>3</td>\n",
              "      <td>300</td>\n",
              "    </tr>\n",
              "  </tbody>\n",
              "</table>\n",
              "<p>8928 rows × 4 columns</p>\n",
              "</div>"
            ],
            "text/plain": [
              "                      timestamp  MOER  MOER version  frequency\n",
              "0     2021-12-01T00:00:00+00:00   950             3        300\n",
              "1     2021-12-01T00:05:00+00:00   971             3        300\n",
              "2     2021-12-01T00:10:00+00:00   964             3        300\n",
              "3     2021-12-01T00:15:00+00:00   968             3        300\n",
              "4     2021-12-01T00:20:00+00:00   966             3        300\n",
              "...                         ...   ...           ...        ...\n",
              "8923  2021-12-31T23:35:00+00:00  1039             3        300\n",
              "8924  2021-12-31T23:40:00+00:00  1072             3        300\n",
              "8925  2021-12-31T23:45:00+00:00  1071             3        300\n",
              "8926  2021-12-31T23:50:00+00:00  1080             3        300\n",
              "8927  2021-12-31T23:55:00+00:00  1078             3        300\n",
              "\n",
              "[8928 rows x 4 columns]"
            ]
          },
          "execution_count": 32,
          "metadata": {},
          "output_type": "execute_result"
        }
      ],
      "source": [
        "data"
      ]
    },
    {
      "cell_type": "code",
      "source": [
        "data_test= data1['MOER']"
      ],
      "metadata": {
        "id": "s42un7nCkfts"
      },
      "execution_count": 56,
      "outputs": []
    },
    {
      "cell_type": "code",
      "execution_count": 3,
      "metadata": {
        "id": "g4ExR47ia6NP"
      },
      "outputs": [],
      "source": [
        "data_model= data['MOER']"
      ]
    },
    {
      "cell_type": "code",
      "execution_count": 4,
      "metadata": {
        "colab": {
          "base_uri": "https://localhost:8080/"
        },
        "id": "ZV0Q8-uYa6NP",
        "outputId": "04571ef6-46ac-46aa-8abb-90b2cd1218c3"
      },
      "outputs": [
        {
          "output_type": "execute_result",
          "data": {
            "text/plain": [
              "0    950\n",
              "1    971\n",
              "2    964\n",
              "3    968\n",
              "4    966\n",
              "5    965\n",
              "6    965\n",
              "7    961\n",
              "8    959\n",
              "9    957\n",
              "Name: MOER, dtype: int64"
            ]
          },
          "metadata": {},
          "execution_count": 4
        }
      ],
      "source": [
        "data_model[:10]"
      ]
    },
    {
      "cell_type": "code",
      "execution_count": 5,
      "metadata": {
        "colab": {
          "base_uri": "https://localhost:8080/"
        },
        "id": "5qBN3RRna6NP",
        "outputId": "de09268f-837d-47a0-d0da-9586320217f5"
      },
      "outputs": [
        {
          "output_type": "stream",
          "name": "stdout",
          "text": [
            "4\n",
            "5\n",
            "6\n",
            "7\n",
            "8\n",
            "9\n"
          ]
        }
      ],
      "source": [
        "for i in range(4,10):\n",
        "    print(i)"
      ]
    },
    {
      "cell_type": "code",
      "execution_count": null,
      "metadata": {
        "id": "rFNTE1wta6NQ"
      },
      "outputs": [],
      "source": [
        "for i in range(len(data)-4):\n",
        "    X.append(data.iloc[i:i+4])\n",
        "    y.append(data.iloc[i+4])"
      ]
    },
    {
      "cell_type": "code",
      "execution_count": null,
      "metadata": {
        "id": "gUebuGcua6NQ",
        "outputId": "746f9171-754b-40c7-e991-dce303b9b9e6"
      },
      "outputs": [
        {
          "data": {
            "text/html": [
              "<div>\n",
              "<style scoped>\n",
              "    .dataframe tbody tr th:only-of-type {\n",
              "        vertical-align: middle;\n",
              "    }\n",
              "\n",
              "    .dataframe tbody tr th {\n",
              "        vertical-align: top;\n",
              "    }\n",
              "\n",
              "    .dataframe thead th {\n",
              "        text-align: right;\n",
              "    }\n",
              "</style>\n",
              "<table border=\"1\" class=\"dataframe\">\n",
              "  <thead>\n",
              "    <tr style=\"text-align: right;\">\n",
              "      <th></th>\n",
              "      <th>timestamp</th>\n",
              "      <th>MOER</th>\n",
              "      <th>MOER version</th>\n",
              "      <th>frequency</th>\n",
              "    </tr>\n",
              "  </thead>\n",
              "  <tbody>\n",
              "    <tr>\n",
              "      <th>0</th>\n",
              "      <td>2021-12-01T00:00:00+00:00</td>\n",
              "      <td>950</td>\n",
              "      <td>3</td>\n",
              "      <td>300</td>\n",
              "    </tr>\n",
              "    <tr>\n",
              "      <th>1</th>\n",
              "      <td>2021-12-01T00:05:00+00:00</td>\n",
              "      <td>971</td>\n",
              "      <td>3</td>\n",
              "      <td>300</td>\n",
              "    </tr>\n",
              "    <tr>\n",
              "      <th>2</th>\n",
              "      <td>2021-12-01T00:10:00+00:00</td>\n",
              "      <td>964</td>\n",
              "      <td>3</td>\n",
              "      <td>300</td>\n",
              "    </tr>\n",
              "    <tr>\n",
              "      <th>3</th>\n",
              "      <td>2021-12-01T00:15:00+00:00</td>\n",
              "      <td>968</td>\n",
              "      <td>3</td>\n",
              "      <td>300</td>\n",
              "    </tr>\n",
              "  </tbody>\n",
              "</table>\n",
              "</div>"
            ],
            "text/plain": [
              "                   timestamp  MOER  MOER version  frequency\n",
              "0  2021-12-01T00:00:00+00:00   950             3        300\n",
              "1  2021-12-01T00:05:00+00:00   971             3        300\n",
              "2  2021-12-01T00:10:00+00:00   964             3        300\n",
              "3  2021-12-01T00:15:00+00:00   968             3        300"
            ]
          },
          "execution_count": 58,
          "metadata": {},
          "output_type": "execute_result"
        }
      ],
      "source": [
        "data.iloc[4-4:4]"
      ]
    },
    {
      "cell_type": "code",
      "execution_count": 43,
      "metadata": {
        "id": "k2hTwkVoa6NQ"
      },
      "outputs": [],
      "source": [
        "def prepare_data(data, n_prev=4):\n",
        "    X, y = [], []\n",
        "    for i in range(n_prev, len(data)):\n",
        "        X.append(data.iloc[i-n_prev:i])\n",
        "        y.append(data.iloc[i])\n",
        "    return np.array(X), np.array(y)\n"
      ]
    },
    {
      "cell_type": "code",
      "execution_count": 44,
      "metadata": {
        "id": "-cXP1gowa6NR"
      },
      "outputs": [],
      "source": [
        "train_size = int(len(data) * 0.8)\n",
        "train_data = data_model.iloc[:train_size]\n",
        "test_data = data_model.iloc[train_size:]\n"
      ]
    },
    {
      "cell_type": "code",
      "execution_count": 45,
      "metadata": {
        "id": "vEBPbv2va6NR"
      },
      "outputs": [],
      "source": [
        "X_train, y_train = prepare_data(train_data)\n",
        "X_test, y_test = prepare_data(test_data)\n"
      ]
    },
    {
      "cell_type": "code",
      "source": [
        "X_TEST_OVERFIT,Y_TEST_OVERFIT = prepare_data(data_test)\n"
      ],
      "metadata": {
        "id": "Dwrl2GYkkwLd"
      },
      "execution_count": 59,
      "outputs": []
    },
    {
      "cell_type": "code",
      "execution_count": 47,
      "metadata": {
        "id": "HNHumh1Xa6NR"
      },
      "outputs": [],
      "source": [
        "model = Sequential()\n",
        "model.add(Dense(64, activation='relu', input_dim=X_train.shape[1]))\n",
        "model.add(Dense(32, activation='relu'))\n",
        "model.add(Dense(27, activation='relu'))\n",
        "model.add(Dense(20, activation='linear'))\n",
        "model.add(Dense(17, activation='relu'))\n",
        "model.add(Dense(15, activation='relu'))\n",
        "model.add(Dense(10, activation='relu'))\n",
        "model.add(Dense(1, activation='linear'))\n",
        "model.compile(loss='mse', optimizer='adam')\n"
      ]
    },
    {
      "cell_type": "code",
      "execution_count": 48,
      "metadata": {
        "colab": {
          "base_uri": "https://localhost:8080/"
        },
        "id": "_BNc-suCa6NS",
        "outputId": "767651e1-0b61-46cc-c0f2-119763e01be9"
      },
      "outputs": [
        {
          "output_type": "stream",
          "name": "stdout",
          "text": [
            "Epoch 1/50\n",
            "201/201 [==============================] - 2s 3ms/step - loss: 57356.3633 - val_loss: 15116.5283\n",
            "Epoch 2/50\n",
            "201/201 [==============================] - 0s 2ms/step - loss: 4556.5571 - val_loss: 14250.7539\n",
            "Epoch 3/50\n",
            "201/201 [==============================] - 1s 3ms/step - loss: 4451.2886 - val_loss: 14485.4248\n",
            "Epoch 4/50\n",
            "201/201 [==============================] - 0s 2ms/step - loss: 4324.5107 - val_loss: 14604.5039\n",
            "Epoch 5/50\n",
            "201/201 [==============================] - 1s 3ms/step - loss: 4278.8213 - val_loss: 14381.5420\n",
            "Epoch 6/50\n",
            "201/201 [==============================] - 0s 2ms/step - loss: 4360.9277 - val_loss: 13959.5000\n",
            "Epoch 7/50\n",
            "201/201 [==============================] - 0s 2ms/step - loss: 4305.6807 - val_loss: 14676.3262\n",
            "Epoch 8/50\n",
            "201/201 [==============================] - 0s 2ms/step - loss: 4163.8862 - val_loss: 15007.0811\n",
            "Epoch 9/50\n",
            "201/201 [==============================] - 1s 3ms/step - loss: 4207.8003 - val_loss: 14758.1699\n",
            "Epoch 10/50\n",
            "201/201 [==============================] - 1s 3ms/step - loss: 4259.5381 - val_loss: 14446.8926\n",
            "Epoch 11/50\n",
            "201/201 [==============================] - 0s 2ms/step - loss: 4210.3174 - val_loss: 16093.8359\n",
            "Epoch 12/50\n",
            "201/201 [==============================] - 0s 2ms/step - loss: 4101.6904 - val_loss: 17076.8984\n",
            "Epoch 13/50\n",
            "201/201 [==============================] - 0s 2ms/step - loss: 4141.4214 - val_loss: 15969.4639\n",
            "Epoch 14/50\n",
            "201/201 [==============================] - 1s 3ms/step - loss: 4029.0466 - val_loss: 16389.8086\n",
            "Epoch 15/50\n",
            "201/201 [==============================] - 1s 3ms/step - loss: 4153.7026 - val_loss: 16638.7148\n",
            "Epoch 16/50\n",
            "201/201 [==============================] - 1s 3ms/step - loss: 4211.1201 - val_loss: 16724.0273\n",
            "Epoch 17/50\n",
            "201/201 [==============================] - 1s 3ms/step - loss: 4143.6631 - val_loss: 16035.2910\n",
            "Epoch 18/50\n",
            "201/201 [==============================] - 0s 2ms/step - loss: 4169.0498 - val_loss: 16464.9492\n",
            "Epoch 19/50\n",
            "201/201 [==============================] - 0s 2ms/step - loss: 4030.0942 - val_loss: 16822.2090\n",
            "Epoch 20/50\n",
            "201/201 [==============================] - 0s 2ms/step - loss: 4007.5908 - val_loss: 17658.2207\n",
            "Epoch 21/50\n",
            "201/201 [==============================] - 0s 2ms/step - loss: 4030.2615 - val_loss: 16375.9648\n",
            "Epoch 22/50\n",
            "201/201 [==============================] - 1s 3ms/step - loss: 4123.6328 - val_loss: 17894.3066\n",
            "Epoch 23/50\n",
            "201/201 [==============================] - 0s 2ms/step - loss: 4147.4863 - val_loss: 16588.8027\n",
            "Epoch 24/50\n",
            "201/201 [==============================] - 0s 2ms/step - loss: 4169.6230 - val_loss: 17077.8770\n",
            "Epoch 25/50\n",
            "201/201 [==============================] - 1s 3ms/step - loss: 4193.6353 - val_loss: 18896.8828\n",
            "Epoch 26/50\n",
            "201/201 [==============================] - 1s 3ms/step - loss: 3935.8787 - val_loss: 18827.7559\n",
            "Epoch 27/50\n",
            "201/201 [==============================] - 0s 2ms/step - loss: 3986.2605 - val_loss: 18058.0312\n",
            "Epoch 28/50\n",
            "201/201 [==============================] - 1s 3ms/step - loss: 3991.9387 - val_loss: 20751.9258\n",
            "Epoch 29/50\n",
            "201/201 [==============================] - 0s 2ms/step - loss: 3952.3540 - val_loss: 19260.7637\n",
            "Epoch 30/50\n",
            "201/201 [==============================] - 0s 2ms/step - loss: 3939.8730 - val_loss: 18818.6035\n",
            "Epoch 31/50\n",
            "201/201 [==============================] - 1s 3ms/step - loss: 4036.4426 - val_loss: 21516.6152\n",
            "Epoch 32/50\n",
            "201/201 [==============================] - 1s 3ms/step - loss: 4126.7124 - val_loss: 19454.1582\n",
            "Epoch 33/50\n",
            "201/201 [==============================] - 0s 2ms/step - loss: 3987.6865 - val_loss: 21146.9277\n",
            "Epoch 34/50\n",
            "201/201 [==============================] - 1s 3ms/step - loss: 4024.1809 - val_loss: 19190.2500\n",
            "Epoch 35/50\n",
            "201/201 [==============================] - 1s 2ms/step - loss: 3989.9536 - val_loss: 20620.7012\n",
            "Epoch 36/50\n",
            "201/201 [==============================] - 1s 3ms/step - loss: 4123.8496 - val_loss: 18744.1953\n",
            "Epoch 37/50\n",
            "201/201 [==============================] - 1s 3ms/step - loss: 4019.9414 - val_loss: 21020.2539\n",
            "Epoch 38/50\n",
            "201/201 [==============================] - 1s 3ms/step - loss: 4049.7974 - val_loss: 21050.0176\n",
            "Epoch 39/50\n",
            "201/201 [==============================] - 1s 3ms/step - loss: 3960.1958 - val_loss: 20114.3535\n",
            "Epoch 40/50\n",
            "201/201 [==============================] - 1s 3ms/step - loss: 3943.0891 - val_loss: 20142.0312\n",
            "Epoch 41/50\n",
            "201/201 [==============================] - 0s 2ms/step - loss: 4024.6343 - val_loss: 21826.5449\n",
            "Epoch 42/50\n",
            "201/201 [==============================] - 0s 2ms/step - loss: 3923.2644 - val_loss: 19301.3242\n",
            "Epoch 43/50\n",
            "201/201 [==============================] - 1s 2ms/step - loss: 3905.1382 - val_loss: 20335.1953\n",
            "Epoch 44/50\n",
            "201/201 [==============================] - 0s 2ms/step - loss: 3929.9006 - val_loss: 19677.6113\n",
            "Epoch 45/50\n",
            "201/201 [==============================] - 0s 2ms/step - loss: 3920.4514 - val_loss: 19731.4883\n",
            "Epoch 46/50\n",
            "201/201 [==============================] - 0s 2ms/step - loss: 3843.2305 - val_loss: 21223.4414\n",
            "Epoch 47/50\n",
            "201/201 [==============================] - 1s 3ms/step - loss: 4068.3079 - val_loss: 20933.9375\n",
            "Epoch 48/50\n",
            "201/201 [==============================] - 0s 2ms/step - loss: 3918.5867 - val_loss: 20907.7520\n",
            "Epoch 49/50\n",
            "201/201 [==============================] - 1s 2ms/step - loss: 3912.3315 - val_loss: 21446.4551\n",
            "Epoch 50/50\n",
            "201/201 [==============================] - 1s 3ms/step - loss: 3953.2363 - val_loss: 22626.8770\n"
          ]
        },
        {
          "output_type": "execute_result",
          "data": {
            "text/plain": [
              "<keras.callbacks.History at 0x7f149bb463a0>"
            ]
          },
          "metadata": {},
          "execution_count": 48
        }
      ],
      "source": [
        "model.fit(X_train, y_train, epochs=50, batch_size=32, validation_split=0.1)\n"
      ]
    },
    {
      "cell_type": "code",
      "source": [
        "y_pred=model.predict(X_test)"
      ],
      "metadata": {
        "colab": {
          "base_uri": "https://localhost:8080/"
        },
        "id": "iEV2pPR1bh23",
        "outputId": "fefe7ad3-b384-4666-dfa5-6f4cbab2fa32"
      },
      "execution_count": 50,
      "outputs": [
        {
          "output_type": "stream",
          "name": "stdout",
          "text": [
            "56/56 [==============================] - 0s 1ms/step\n"
          ]
        }
      ]
    },
    {
      "cell_type": "code",
      "execution_count": 16,
      "metadata": {
        "colab": {
          "base_uri": "https://localhost:8080/"
        },
        "id": "w2b6glyVa6NS",
        "outputId": "779d6eff-620b-41a3-ecd2-936235297e4f"
      },
      "outputs": [
        {
          "output_type": "execute_result",
          "data": {
            "text/plain": [
              "(1782, 1)"
            ]
          },
          "metadata": {},
          "execution_count": 16
        }
      ],
      "source": [
        "y_pred.shape"
      ]
    },
    {
      "cell_type": "code",
      "source": [
        "Y_PRED_OVERFIT=model.predict(X_TEST_OVERFIT)"
      ],
      "metadata": {
        "colab": {
          "base_uri": "https://localhost:8080/"
        },
        "id": "5rwQAvFglNEv",
        "outputId": "ca62f393-2594-4b4b-84a0-e8f4fe37c78d"
      },
      "execution_count": 60,
      "outputs": [
        {
          "output_type": "stream",
          "name": "stdout",
          "text": [
            "279/279 [==============================] - 1s 3ms/step\n"
          ]
        }
      ]
    },
    {
      "cell_type": "code",
      "source": [
        "import matplotlib.pyplot as plt\n",
        "plt.plot(Y_PRED_OVERFIT, color='r')\n",
        "plt.plot(Y_TEST_OVERFIT, color='g')\n",
        "plt.xlim(100,300)"
      ],
      "metadata": {
        "colab": {
          "base_uri": "https://localhost:8080/",
          "height": 448
        },
        "id": "UMJ_dW6YlSQg",
        "outputId": "2caec225-6c6c-48c6-f78c-29d1b84d95a8"
      },
      "execution_count": 63,
      "outputs": [
        {
          "output_type": "execute_result",
          "data": {
            "text/plain": [
              "(100.0, 300.0)"
            ]
          },
          "metadata": {},
          "execution_count": 63
        },
        {
          "output_type": "display_data",
          "data": {
            "text/plain": [
              "<Figure size 640x480 with 1 Axes>"
            ],
            "image/png": "[encoded data removed]"
          },
          "metadata": {}
        }
      ]
    },
    {
      "cell_type": "code",
      "source": [
        "y_test"
      ],
      "metadata": {
        "colab": {
          "base_uri": "https://localhost:8080/"
        },
        "id": "shoUIuA5b_HD",
        "outputId": "c9bc6ad1-3f45-474b-f743-569cb25c1f51"
      },
      "execution_count": 28,
      "outputs": [
        {
          "output_type": "execute_result",
          "data": {
            "text/plain": [
              "array([  45,   45,   45, ..., 1071, 1080, 1078])"
            ]
          },
          "metadata": {},
          "execution_count": 28
        }
      ]
    },
    {
      "cell_type": "code",
      "source": [
        "y_pred"
      ],
      "metadata": {
        "colab": {
          "base_uri": "https://localhost:8080/"
        },
        "id": "YZ09Zpp3b9aM",
        "outputId": "a4408894-2b30-4c4e-f46c-f45d58820114"
      },
      "execution_count": 29,
      "outputs": [
        {
          "output_type": "execute_result",
          "data": {
            "text/plain": [
              "array([[  49.977875],\n",
              "       [  50.617702],\n",
              "       [  50.769386],\n",
              "       ...,\n",
              "       [1049.5957  ],\n",
              "       [1072.7529  ],\n",
              "       [1078.8191  ]], dtype=float32)"
            ]
          },
          "metadata": {},
          "execution_count": 29
        }
      ]
    },
    {
      "cell_type": "code",
      "execution_count": 54,
      "metadata": {
        "colab": {
          "base_uri": "https://localhost:8080/",
          "height": 448
        },
        "id": "KpNZRi9ba6NS",
        "outputId": "0fa08f9a-7442-49a4-d2b1-3f51d504f9e8"
      },
      "outputs": [
        {
          "output_type": "execute_result",
          "data": {
            "text/plain": [
              "(0.0, 200.0)"
            ]
          },
          "metadata": {},
          "execution_count": 54
        },
        {
          "output_type": "display_data",
          "data": {
            "text/plain": [
              "<Figure size 640x480 with 1 Axes>"
            ],
            "image/png": "[encoded data removed]"
          },
          "metadata": {}
        }
      ],
      "source": [
        "import matplotlib.pyplot as plt\n",
        "plt.plot(y_test, color='r')\n",
        "plt.plot(y_pred, color='g')\n",
        "plt.xlim(0,200)"
      ]
    },
    {
      "cell_type": "code",
      "execution_count": null,
      "metadata": {
        "id": "OQsHgomDa6NS",
        "outputId": "30893e5c-4cdf-445f-c1f6-389e9a427dca"
      },
      "outputs": [
        {
          "ename": "NameError",
          "evalue": "name 'model' is not defined",
          "output_type": "error",
          "traceback": [
            "\u001b[0;31m---------------------------------------------------------------------------\u001b[0m",
            "\u001b[0;31mNameError\u001b[0m                                 Traceback (most recent call last)",
            "Cell \u001b[0;32mIn[91], line 6\u001b[0m\n\u001b[1;32m      2\u001b[0m X_test, y_test \u001b[39m=\u001b[39m prepare_data(data_model)\n\u001b[1;32m      3\u001b[0m \u001b[39m## faut juste mettre la premiere prédiction\u001b[39;00m\n\u001b[1;32m      4\u001b[0m \n\u001b[1;32m      5\u001b[0m \u001b[39m# Effectuer la première prédiction\u001b[39;00m\n\u001b[0;32m----> 6\u001b[0m predictions \u001b[39m=\u001b[39m model\u001b[39m.\u001b[39mpredict(X_test)\n\u001b[1;32m      8\u001b[0m \u001b[39m# Ajouter la première prédiction à une liste\u001b[39;00m\n\u001b[1;32m      9\u001b[0m all_predictions \u001b[39m=\u001b[39m predictions\u001b[39m.\u001b[39mtolist()\n",
            "\u001b[0;31mNameError\u001b[0m: name 'model' is not defined"
          ]
        }
      ],
      "source": [
        "# Préparer les données pour la prédiction initiale\n",
        "X_test = np.array([  48,   44,   44,   45])\n",
        "y_test = np.array([45])\n",
        "## faut juste mettre la premiere prédiction\n",
        "\n",
        "# Effectuer la première prédiction\n",
        "predictions = model.predict(X_test)\n",
        "\n",
        "# Ajouter la première prédiction à une liste\n",
        "all_predictions = predictions.tolist()\n",
        "\n",
        "# Boucle pour effectuer des prédictions supplémentaires en utilisant les prédictions précédentes comme entrée\n",
        "for i in range(10):\n",
        "    # Utiliser les prédictions précédentes pour créer de nouvelles entrées\n",
        "    X_test_new = np.concatenate([X_test[:, 1:], predictions.reshape(-1, 1)], axis=1)\n",
        "    \n",
        "    # Effectuer une nouvelle prédiction\n",
        "    predictions = model.predict(X_test_new)\n",
        "    \n",
        "    # Ajouter la prédiction à la liste des prédictions\n",
        "    all_predictions.extend(predictions.tolist())\n"
      ]
    },
    {
      "cell_type": "code",
      "execution_count": null,
      "metadata": {
        "id": "xk4icqlUa6NT"
      },
      "outputs": [],
      "source": [
        "### lstm"
      ]
    },
    {
      "cell_type": "code",
      "execution_count": 31,
      "metadata": {
        "id": "ibDkvxaPa6NT"
      },
      "outputs": [],
      "source": [
        "def prepare_data(data, n_prev=4):\n",
        "    X, y = [], []\n",
        "    for i in range(n_prev, len(data)):\n",
        "        X.append(data.iloc[i-n_prev:i].values)\n",
        "\n",
        "        y.append(data.iloc[i])\n",
        "    return np.array(X), np.array(y)\n",
        "\n",
        "X, y = prepare_data(data_model)\n"
      ]
    },
    {
      "cell_type": "code",
      "execution_count": 32,
      "metadata": {
        "id": "OhApJyDla6NT"
      },
      "outputs": [],
      "source": [
        "import numpy as np\n",
        "import pandas as pd\n",
        "from keras.models import Sequential\n",
        "from keras.layers import LSTM, Dense\n"
      ]
    },
    {
      "cell_type": "code",
      "execution_count": 33,
      "metadata": {
        "id": "ByYDMsITa6NU"
      },
      "outputs": [],
      "source": [
        "train_size = int(len(X) * 0.7)\n",
        "X_train, y_train = X[:train_size], y[:train_size]\n",
        "X_test, y_test = X[train_size:], y[train_size:]\n"
      ]
    },
    {
      "cell_type": "code",
      "execution_count": 34,
      "metadata": {
        "id": "U847XhFFa6NU"
      },
      "outputs": [],
      "source": [
        "X_train = np.reshape(X_train, (X_train.shape[0], X_train.shape[1], 1))\n",
        "X_test = np.reshape(X_test, (X_test.shape[0], X_test.shape[1], 1))\n"
      ]
    },
    {
      "cell_type": "code",
      "execution_count": null,
      "metadata": {
        "id": "BeJCPXfpa6NU",
        "outputId": "ed22d085-087e-46ca-8709-ec5452658e58"
      },
      "outputs": [
        {
          "data": {
            "text/plain": [
              "(6246, 4, 1)"
            ]
          },
          "execution_count": 95,
          "metadata": {},
          "output_type": "execute_result"
        }
      ],
      "source": [
        "X_train.shape"
      ]
    },
    {
      "cell_type": "code",
      "execution_count": 36,
      "metadata": {
        "id": "gVozDQWxa6NU"
      },
      "outputs": [],
      "source": [
        "model = Sequential()\n",
        "model.add(LSTM(64, input_shape=(X_train.shape[1], 1)))\n",
        "model.add(Dense(17, activation='relu'))\n",
        "model.add(Dense(15, activation='relu'))\n",
        "model.add(Dense(10, activation='relu'))\n",
        "model.add(Dense(1))\n",
        "model.compile(loss='mse', optimizer='adam')\n"
      ]
    },
    {
      "cell_type": "code",
      "execution_count": 37,
      "metadata": {
        "colab": {
          "base_uri": "https://localhost:8080/"
        },
        "id": "uB8SL-78a6NU",
        "outputId": "c7f09319-7d90-49a2-ddbe-4310aed5e655"
      },
      "outputs": [
        {
          "output_type": "stream",
          "name": "stdout",
          "text": [
            "Epoch 1/50\n",
            "176/176 [==============================] - 4s 7ms/step - loss: 934891.7500 - val_loss: 823936.6875\n",
            "Epoch 2/50\n",
            "176/176 [==============================] - 1s 6ms/step - loss: 276311.3438 - val_loss: 3151.0149\n",
            "Epoch 3/50\n",
            "176/176 [==============================] - 1s 5ms/step - loss: 9964.7002 - val_loss: 2778.5901\n",
            "Epoch 4/50\n",
            "176/176 [==============================] - 1s 7ms/step - loss: 7638.0859 - val_loss: 1235.2324\n",
            "Epoch 5/50\n",
            "176/176 [==============================] - 1s 6ms/step - loss: 6692.3574 - val_loss: 1337.3173\n",
            "Epoch 6/50\n",
            "176/176 [==============================] - 1s 5ms/step - loss: 6217.6465 - val_loss: 612.8663\n",
            "Epoch 7/50\n",
            "176/176 [==============================] - 1s 5ms/step - loss: 5516.2422 - val_loss: 645.4265\n",
            "Epoch 8/50\n",
            "176/176 [==============================] - 1s 5ms/step - loss: 5186.8032 - val_loss: 661.2366\n",
            "Epoch 9/50\n",
            "176/176 [==============================] - 1s 5ms/step - loss: 5186.9751 - val_loss: 558.0422\n",
            "Epoch 10/50\n",
            "176/176 [==============================] - 1s 5ms/step - loss: 5105.1377 - val_loss: 352.8868\n",
            "Epoch 11/50\n",
            "176/176 [==============================] - 1s 5ms/step - loss: 5229.7920 - val_loss: 355.7601\n",
            "Epoch 12/50\n",
            "176/176 [==============================] - 1s 5ms/step - loss: 5343.8403 - val_loss: 690.1733\n",
            "Epoch 13/50\n",
            "176/176 [==============================] - 1s 5ms/step - loss: 5223.4092 - val_loss: 751.8613\n",
            "Epoch 14/50\n",
            "176/176 [==============================] - 1s 5ms/step - loss: 5052.9688 - val_loss: 1593.0583\n",
            "Epoch 15/50\n",
            "176/176 [==============================] - 1s 5ms/step - loss: 5056.0938 - val_loss: 356.3621\n",
            "Epoch 16/50\n",
            "176/176 [==============================] - 1s 5ms/step - loss: 5029.9531 - val_loss: 819.3276\n",
            "Epoch 17/50\n",
            "176/176 [==============================] - 1s 6ms/step - loss: 5165.3115 - val_loss: 400.1624\n",
            "Epoch 18/50\n",
            "176/176 [==============================] - 1s 6ms/step - loss: 4989.7061 - val_loss: 573.9224\n",
            "Epoch 19/50\n",
            "176/176 [==============================] - 1s 5ms/step - loss: 4964.3301 - val_loss: 1074.9594\n",
            "Epoch 20/50\n",
            "176/176 [==============================] - 1s 5ms/step - loss: 4991.5366 - val_loss: 860.1175\n",
            "Epoch 21/50\n",
            "176/176 [==============================] - 1s 7ms/step - loss: 4993.2788 - val_loss: 594.6083\n",
            "Epoch 22/50\n",
            "176/176 [==============================] - 2s 9ms/step - loss: 5035.5449 - val_loss: 1298.8140\n",
            "Epoch 23/50\n",
            "176/176 [==============================] - 1s 5ms/step - loss: 5124.0229 - val_loss: 917.4238\n",
            "Epoch 24/50\n",
            "176/176 [==============================] - 1s 5ms/step - loss: 5006.5522 - val_loss: 711.7905\n",
            "Epoch 25/50\n",
            "176/176 [==============================] - 1s 5ms/step - loss: 5037.5181 - val_loss: 1487.2396\n",
            "Epoch 26/50\n",
            "176/176 [==============================] - 1s 5ms/step - loss: 4870.3516 - val_loss: 398.7721\n",
            "Epoch 27/50\n",
            "176/176 [==============================] - 1s 5ms/step - loss: 4988.6289 - val_loss: 394.0939\n",
            "Epoch 28/50\n",
            "176/176 [==============================] - 1s 7ms/step - loss: 4796.6040 - val_loss: 325.3680\n",
            "Epoch 29/50\n",
            "176/176 [==============================] - 2s 10ms/step - loss: 4885.1948 - val_loss: 682.7963\n",
            "Epoch 30/50\n",
            "176/176 [==============================] - 1s 8ms/step - loss: 5040.3750 - val_loss: 506.1515\n",
            "Epoch 31/50\n",
            "176/176 [==============================] - 1s 6ms/step - loss: 4957.1528 - val_loss: 531.9586\n",
            "Epoch 32/50\n",
            "176/176 [==============================] - 2s 10ms/step - loss: 5038.1382 - val_loss: 462.2733\n",
            "Epoch 33/50\n",
            "176/176 [==============================] - 2s 10ms/step - loss: 4905.4893 - val_loss: 711.3832\n",
            "Epoch 34/50\n",
            "176/176 [==============================] - 2s 9ms/step - loss: 4963.2026 - val_loss: 337.7060\n",
            "Epoch 35/50\n",
            "176/176 [==============================] - 2s 12ms/step - loss: 4773.7822 - val_loss: 493.2898\n",
            "Epoch 36/50\n",
            "176/176 [==============================] - 2s 10ms/step - loss: 5005.6484 - val_loss: 405.5207\n",
            "Epoch 37/50\n",
            "176/176 [==============================] - 2s 9ms/step - loss: 4847.2915 - val_loss: 410.9291\n",
            "Epoch 38/50\n",
            "176/176 [==============================] - 1s 8ms/step - loss: 4821.7095 - val_loss: 625.0833\n",
            "Epoch 39/50\n",
            "176/176 [==============================] - 2s 9ms/step - loss: 4879.2300 - val_loss: 393.3979\n",
            "Epoch 40/50\n",
            "176/176 [==============================] - 1s 5ms/step - loss: 5266.3203 - val_loss: 398.7991\n",
            "Epoch 41/50\n",
            "176/176 [==============================] - 1s 5ms/step - loss: 4840.5928 - val_loss: 2014.8040\n",
            "Epoch 42/50\n",
            "176/176 [==============================] - 1s 5ms/step - loss: 4909.5352 - val_loss: 446.5337\n",
            "Epoch 43/50\n",
            "176/176 [==============================] - 1s 5ms/step - loss: 4736.4424 - val_loss: 418.1313\n",
            "Epoch 44/50\n",
            "176/176 [==============================] - 1s 5ms/step - loss: 4780.1748 - val_loss: 425.9236\n",
            "Epoch 45/50\n",
            "176/176 [==============================] - 1s 5ms/step - loss: 5028.1631 - val_loss: 399.2630\n",
            "Epoch 46/50\n",
            "176/176 [==============================] - 1s 6ms/step - loss: 4923.7241 - val_loss: 361.9809\n",
            "Epoch 47/50\n",
            "176/176 [==============================] - 1s 7ms/step - loss: 4843.2100 - val_loss: 1498.9432\n",
            "Epoch 48/50\n",
            "176/176 [==============================] - 1s 5ms/step - loss: 4836.7827 - val_loss: 865.8150\n",
            "Epoch 49/50\n",
            "176/176 [==============================] - 1s 5ms/step - loss: 4707.0137 - val_loss: 333.6656\n",
            "Epoch 50/50\n",
            "176/176 [==============================] - 1s 7ms/step - loss: 4683.3438 - val_loss: 494.1194\n"
          ]
        },
        {
          "output_type": "execute_result",
          "data": {
            "text/plain": [
              "<keras.callbacks.History at 0x7f149baf2a60>"
            ]
          },
          "metadata": {},
          "execution_count": 37
        }
      ],
      "source": [
        "model.fit(X_train, y_train, epochs=50, batch_size=32, validation_split=0.1)\n"
      ]
    },
    {
      "cell_type": "code",
      "source": [
        "y_pred=model.predict(X_test)"
      ],
      "metadata": {
        "colab": {
          "base_uri": "https://localhost:8080/"
        },
        "id": "fwBZwq0-dPGi",
        "outputId": "1dcb0121-3984-4ade-a2e1-479385670de3"
      },
      "execution_count": 38,
      "outputs": [
        {
          "output_type": "stream",
          "name": "stdout",
          "text": [
            "84/84 [==============================] - 1s 2ms/step\n"
          ]
        }
      ]
    },
    {
      "cell_type": "code",
      "source": [
        "y_test"
      ],
      "metadata": {
        "colab": {
          "base_uri": "https://localhost:8080/"
        },
        "id": "WizexeqodNdw",
        "outputId": "773c4ab2-526c-4366-b8d6-d19293d7e8ca"
      },
      "execution_count": 39,
      "outputs": [
        {
          "output_type": "execute_result",
          "data": {
            "text/plain": [
              "array([ 965,  965,  957, ..., 1071, 1080, 1078])"
            ]
          },
          "metadata": {},
          "execution_count": 39
        }
      ]
    },
    {
      "cell_type": "code",
      "source": [
        "import matplotlib.pyplot as plt\n",
        "plt.plot(y_test, color='r')\n",
        "plt.plot(y_pred, color='g')"
      ],
      "metadata": {
        "colab": {
          "base_uri": "https://localhost:8080/",
          "height": 448
        },
        "id": "b51-4UuzdUL9",
        "outputId": "90673317-9606-49d7-cc1c-1c58f8948cac"
      },
      "execution_count": 40,
      "outputs": [
        {
          "output_type": "execute_result",
          "data": {
            "text/plain": [
              "[<matplotlib.lines.Line2D at 0x7f149ba7a5e0>]"
            ]
          },
          "metadata": {},
          "execution_count": 40
        },
        {
          "output_type": "display_data",
          "data": {
            "text/plain": [
              "<Figure size 640x480 with 1 Axes>"
            ],
            "image/png": "[encoded data removed]"
          },
          "metadata": {}
        }
      ]
    },
    {
      "cell_type": "code",
      "source": [
        "y_pred"
      ],
      "metadata": {
        "colab": {
          "base_uri": "https://localhost:8080/"
        },
        "id": "MtQvjHOGde_9",
        "outputId": "c96983f6-11a8-4b09-ce93-12dddd7ef607"
      },
      "execution_count": 42,
      "outputs": [
        {
          "output_type": "execute_result",
          "data": {
            "text/plain": [
              "array([[ 961.16144],\n",
              "       [ 961.9649 ],\n",
              "       [ 961.94934],\n",
              "       ...,\n",
              "       [1041.4631 ],\n",
              "       [1040.2471 ],\n",
              "       [1046.2297 ]], dtype=float32)"
            ]
          },
          "metadata": {},
          "execution_count": 42
        }
      ]
    },
    {
      "cell_type": "code",
      "source": [
        "y_test"
      ],
      "metadata": {
        "colab": {
          "base_uri": "https://localhost:8080/"
        },
        "id": "WitTCCnZddgX",
        "outputId": "5c689f53-6597-43b8-e491-dcfa8773beee"
      },
      "execution_count": 41,
      "outputs": [
        {
          "output_type": "execute_result",
          "data": {
            "text/plain": [
              "array([ 965,  965,  957, ..., 1071, 1080, 1078])"
            ]
          },
          "metadata": {},
          "execution_count": 41
        }
      ]
    },
    {
      "cell_type": "code",
      "execution_count": null,
      "metadata": {
        "id": "u-qD6Yeaa6NU"
      },
      "outputs": [],
      "source": [
        "score = model.evaluate(X_test, y_test, batch_size=32)\n",
        "print(\"Test loss:\", score)\n"
      ]
    },
    {
      "cell_type": "code",
      "execution_count": null,
      "metadata": {
        "id": "7RftLe4za6NU"
      },
      "outputs": [],
      "source": [
        "# Préparer les données pour la prédiction initiale\n",
        "X_test, y_test = prepare_data(data_model)\n",
        "\n",
        "# Effectuer la première prédiction\n",
        "predictions = model.predict(X_test)\n",
        "\n",
        "# Ajouter la première prédiction à une liste\n",
        "all_predictions = predictions.tolist()\n",
        "\n",
        "# Boucle pour effectuer des prédictions supplémentaires en utilisant les prédictions précédentes comme entrée\n",
        "for i in range(10):\n",
        "    # Utiliser les prédictions précédentes pour créer de nouvelles entrées\n",
        "    X_test_new = np.concatenate([X_test[:, 1:, :], predictions.reshape(-1, 1, 1)], axis=1)\n",
        "    \n",
        "    # Effectuer une nouvelle prédiction\n",
        "    predictions = model.predict(X_test_new)\n",
        "    \n",
        "    # Ajouter la prédiction à la liste des prédictions\n",
        "    all_predictions.extend(predictions.tolist())\n"
      ]
    }
  ],
  "metadata": {
    "kernelspec": {
      "display_name": "capstone",
      "language": "python",
      "name": "python3"
    },
    "language_info": {
      "codemirror_mode": {
        "name": "ipython",
        "version": 3
      },
      "file_extension": ".py",
      "mimetype": "text/x-python",
      "name": "python",
      "nbconvert_exporter": "python",
      "pygments_lexer": "ipython3",
      "version": "3.9.13"
    },
    "orig_nbformat": 4,
    "vscode": {
      "interpreter": {
        "hash": "311dab91b26c902b175b4a1201b200d1b1d70702d41fbb7a76ff5dcfa763cfdf"
      }
    },
    "colab": {
      "provenance": []
    }
  },
  "nbformat": 4,
  "nbformat_minor": 0
}